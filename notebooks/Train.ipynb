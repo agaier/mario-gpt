{
 "cells": [
  {
   "cell_type": "markdown",
   "id": "6db35712-44f4-4e69-9589-67a5cdab7f5d",
   "metadata": {},
   "source": [
    "## Load Stuff"
   ]
  },
  {
   "cell_type": "code",
   "execution_count": 26,
   "id": "cc50c35e-0dbe-4ffd-993d-280b28d4ce8f",
   "metadata": {
    "tags": []
   },
   "outputs": [],
   "source": [
    "import torch\n",
    "from mario_gpt import MarioDataset, MarioLM, TrainingConfig, MarioGPTTrainer\n",
    "from mario_gpt.utils import view_level, convert_level_to_png, join_list_of_list, characterize"
   ]
  },
  {
   "cell_type": "code",
   "execution_count": 27,
   "id": "b44930dd-c364-4c8a-8cb1-7be444e05471",
   "metadata": {
    "tags": []
   },
   "outputs": [],
   "source": [
    "BASE = \"distilgpt2\""
   ]
  },
  {
   "cell_type": "code",
   "execution_count": 28,
   "id": "e14649e1-07a3-4549-b6ab-6d574c464455",
   "metadata": {
    "tags": []
   },
   "outputs": [
    {
     "name": "stdout",
     "output_type": "stream",
     "text": [
      "Using distilgpt2 lm\n"
     ]
    },
    {
     "name": "stderr",
     "output_type": "stream",
     "text": [
      "/home/gaiera/anaconda3/envs/nzb-gpt/lib/python3.9/site-packages/transformers-4.27.3-py3.9.egg/transformers/models/auto/modeling_auto.py:1295: FutureWarning: The class `AutoModelWithLMHead` is deprecated and will be removed in a future version. Please use `AutoModelForCausalLM` for causal language models, `AutoModelForMaskedLM` for masked language models and `AutoModelForSeq2SeqLM` for encoder-decoder models.\n",
      "  warnings.warn(\n",
      "Some weights of GPT2LMHeadModel were not initialized from the model checkpoint at distilgpt2 and are newly initialized: ['transformer.h.1.crossattention.c_proj.bias', 'transformer.h.4.crossattention.c_proj.bias', 'transformer.h.4.crossattention.masked_bias', 'transformer.h.3.crossattention.bias', 'transformer.h.5.crossattention.bias', 'transformer.h.1.crossattention.masked_bias', 'transformer.h.2.crossattention.c_proj.bias', 'transformer.h.3.crossattention.masked_bias', 'transformer.h.5.crossattention.masked_bias', 'transformer.h.0.ln_cross_attn.weight', 'transformer.h.3.crossattention.c_proj.bias', 'transformer.h.2.crossattention.c_proj.weight', 'transformer.h.2.crossattention.masked_bias', 'transformer.h.0.crossattention.bias', 'transformer.h.4.crossattention.c_attn.weight', 'transformer.h.0.crossattention.q_attn.weight', 'transformer.h.1.crossattention.c_proj.weight', 'transformer.h.2.ln_cross_attn.weight', 'transformer.h.5.crossattention.c_proj.weight', 'transformer.h.4.crossattention.c_proj.weight', 'transformer.h.4.ln_cross_attn.weight', 'transformer.h.0.crossattention.masked_bias', 'transformer.h.1.ln_cross_attn.weight', 'transformer.h.2.crossattention.bias', 'transformer.h.3.ln_cross_attn.weight', 'transformer.h.0.crossattention.c_proj.weight', 'transformer.h.5.crossattention.c_proj.bias', 'transformer.h.3.crossattention.c_attn.weight', 'transformer.h.3.crossattention.q_attn.weight', 'transformer.h.4.crossattention.q_attn.weight', 'transformer.h.3.crossattention.c_proj.weight', 'transformer.h.5.crossattention.q_attn.weight', 'transformer.h.2.crossattention.q_attn.weight', 'transformer.h.1.crossattention.c_attn.weight', 'transformer.h.0.crossattention.c_attn.weight', 'transformer.h.4.crossattention.bias', 'transformer.h.5.crossattention.c_attn.weight', 'transformer.h.5.ln_cross_attn.weight', 'transformer.h.2.crossattention.c_attn.weight', 'transformer.h.1.crossattention.q_attn.weight', 'transformer.h.1.crossattention.bias', 'transformer.h.0.crossattention.c_proj.bias']\n",
      "You should probably TRAIN this model on a down-stream task to be able to use it for predictions and inference.\n"
     ]
    },
    {
     "name": "stdout",
     "output_type": "stream",
     "text": [
      "Using distilgpt2 tokenizer\n"
     ]
    }
   ],
   "source": [
    "mario_lm = MarioLM(lm_path=BASE, tokenizer_path=BASE)"
   ]
  },
  {
   "cell_type": "markdown",
   "id": "b2a9fc71-206f-4c60-800a-d72dc33eeeba",
   "metadata": {},
   "source": [
    "### Load Dataset (Optional)"
   ]
  },
  {
   "cell_type": "code",
   "execution_count": 29,
   "id": "1ee9ec86-1d5b-45cb-ada6-2b52d10edf5e",
   "metadata": {
    "tags": []
   },
   "outputs": [
    {
     "name": "stdout",
     "output_type": "stream",
     "text": [
      "No level string specified, using default string FULL_LEVEL_STR_WITH_PATHS...\n"
     ]
    },
    {
     "name": "stderr",
     "output_type": "stream",
     "text": [
      "Token indices sequence length is longer than the specified maximum sequence length for this model (102116 > 1024). Running this sequence through the model will result in indexing errors\n"
     ]
    },
    {
     "name": "stdout",
     "output_type": "stream",
     "text": [
      "\n",
      "\n",
      "\n"
     ]
    }
   ],
   "source": [
    "dataset = MarioDataset(mario_lm.tokenizer)"
   ]
  },
  {
   "cell_type": "code",
   "execution_count": null,
   "id": "124fde29-b27a-49c1-96cf-f4052f11a66e",
   "metadata": {
    "tags": []
   },
   "outputs": [],
   "source": []
  },
  {
   "cell_type": "code",
   "execution_count": 30,
   "id": "6bdf49ba-0bd0-4bf0-a8f8-fd7230689481",
   "metadata": {
    "tags": []
   },
   "outputs": [
    {
     "data": {
      "text/plain": [
       "['--------------------------------------------------',\n",
       " '--------------------------------------------------',\n",
       " '--------------------------------------------------',\n",
       " '--------------------------------------------------',\n",
       " '-------------------------------------------------o',\n",
       " '--------XSSSSS---------------------------------SSS',\n",
       " '--------X-----------------------------------------',\n",
       " '--------X-----------------------------------------',\n",
       " '-------EX--E-X---------------xxxx-?-----------xxxx',\n",
       " '--------XSS?SX---QQ?QQ------xx<>-x-----------xx--?',\n",
       " '---------------------------xx-[]--x---------xx----',\n",
       " '--------------------------xx--[]---x-------xx-----',\n",
       " 'xxxxxxxxxxxxxxxxxxxxxxxxxxx---[]----xxxxxxxx------',\n",
       " 'XXXXXXXXXXXXXXXXXXXXXXXXXXXXXXXXXXXXXXXXXXXX---XXX']"
      ]
     },
     "execution_count": 30,
     "metadata": {},
     "output_type": "execute_result"
    }
   ],
   "source": [
    "(view_level(dataset.input_ids[:700], dataset.tokenizer))"
   ]
  },
  {
   "cell_type": "code",
   "execution_count": 31,
   "id": "d7082d58-d8a6-4e02-95d5-dcf2728ef54a",
   "metadata": {
    "tags": []
   },
   "outputs": [
    {
     "name": "stderr",
     "output_type": "stream",
     "text": [
      "/home/gaiera/anaconda3/envs/nzb-gpt/lib/python3.9/site-packages/Pillow-9.4.0-py3.9-linux-x86_64.egg/PIL/Image.py:996: UserWarning: Palette images with Transparency expressed in bytes should be converted to RGBA images\n",
      "  warnings.warn(\n"
     ]
    },
    {
     "data": {
      "image/png": "[encoded data removed]",
      "text/plain": [
       "<PIL.Image.Image image mode=RGB size=800x224>"
      ]
     },
     "execution_count": 31,
     "metadata": {},
     "output_type": "execute_result"
    }
   ],
   "source": [
    "img = convert_level_to_png(dataset.input_ids[:700],  dataset.tokenizer)[0]\n",
    "img"
   ]
  },
  {
   "cell_type": "markdown",
   "id": "5b0186ee-8f66-435f-965b-3de9e344afd1",
   "metadata": {},
   "source": [
    "### Setup training"
   ]
  },
  {
   "cell_type": "code",
   "execution_count": 32,
   "id": "36e44f8c-878c-463e-a481-36229f295572",
   "metadata": {
    "tags": []
   },
   "outputs": [],
   "source": [
    "config = TrainingConfig(save_iteration=10)"
   ]
  },
  {
   "cell_type": "code",
   "execution_count": 33,
   "id": "faf6fa43-e970-47a5-87c5-78bb7c2672e9",
   "metadata": {
    "tags": []
   },
   "outputs": [
    {
     "name": "stderr",
     "output_type": "stream",
     "text": [
      "/home/gaiera/anaconda3/envs/nzb-gpt/lib/python3.9/site-packages/transformers-4.27.3-py3.9.egg/transformers/optimization.py:391: FutureWarning: This implementation of AdamW is deprecated and will be removed in a future version. Use the PyTorch implementation torch.optim.AdamW instead, or set `no_deprecation_warning=True` to disable this warning\n",
      "  warnings.warn(\n",
      "/home/gaiera/anaconda3/envs/nzb-gpt/lib/python3.9/site-packages/accelerate/accelerator.py:249: FutureWarning: `logging_dir` is deprecated and will be removed in version 0.18.0 of 🤗 Accelerate. Use `project_dir` instead.\n",
      "  warnings.warn(\n",
      "/home/gaiera/anaconda3/envs/nzb-gpt/lib/python3.9/site-packages/accelerate/accelerator.py:359: UserWarning: `log_with=tensorboard` was passed but no supported trackers are currently installed.\n",
      "  warnings.warn(f\"`log_with={log_with}` was passed but no supported trackers are currently installed.\")\n"
     ]
    }
   ],
   "source": [
    "trainer = MarioGPTTrainer(mario_lm, dataset, config=config)"
   ]
  },
  {
   "cell_type": "code",
   "execution_count": null,
   "id": "8d8e037e-fae6-4c04-914c-3736d422c9ee",
   "metadata": {
    "tags": []
   },
   "outputs": [],
   "source": [
    "trainer.train(1000, batch_size=1)"
   ]
  },
  {
   "cell_type": "code",
   "execution_count": 81,
   "id": "94d43f22-36a4-4236-a495-092e7a7afcca",
   "metadata": {},
   "outputs": [
    {
     "name": "stderr",
     "output_type": "stream",
     "text": [
      "shape: torch.Size([1, 280]), torch.Size([1, 281]) first: 55, last: 13: 100%|████████████████████| 280/280 [00:02<00:00, 128.52it/s]\n"
     ]
    },
    {
     "name": "stdout",
     "output_type": "stream",
     "text": [
      "REPLACING <PIL.PngImagePlugin.PngImageFile image mode=RGB size=16x16 at 0x7FFB149AE6A0> (0, 0)\n",
      "REPLACING <PIL.PngImagePlugin.PngImageFile image mode=RGB size=16x16 at 0x7FFB149AE6A0> (1, 0)\n",
      "REPLACING <PIL.PngImagePlugin.PngImageFile image mode=RGB size=16x16 at 0x7FFB149AE6A0> (2, 0)\n",
      "REPLACING <PIL.PngImagePlugin.PngImageFile image mode=RGB size=16x16 at 0x7FFB149AE6A0> (3, 0)\n",
      "REPLACING <PIL.PngImagePlugin.PngImageFile image mode=RGB size=16x16 at 0x7FFB149AE6A0> (4, 0)\n",
      "REPLACING <PIL.PngImagePlugin.PngImageFile image mode=RGB size=16x16 at 0x7FFB149AE6A0> (5, 0)\n",
      "REPLACING <PIL.PngImagePlugin.PngImageFile image mode=RGB size=16x16 at 0x7FFB149AE6A0> (6, 0)\n",
      "REPLACING <PIL.PngImagePlugin.PngImageFile image mode=RGB size=16x16 at 0x7FFB149AE6A0> (7, 0)\n",
      "REPLACING <PIL.PngImagePlugin.PngImageFile image mode=RGB size=16x16 at 0x7FFB149AE6A0> (8, 0)\n",
      "REPLACING <PIL.PngImagePlugin.PngImageFile image mode=RGB size=16x16 at 0x7FFB149AE6A0> (9, 0)\n",
      "REPLACING <PIL.PngImagePlugin.PngImageFile image mode=RGB size=16x16 at 0x7FFB149AE6A0> (10, 0)\n",
      "REPLACING <PIL.PngImagePlugin.PngImageFile image mode=RGB size=16x16 at 0x7FFB149AE6A0> (11, 0)\n",
      "REPLACING <PIL.PngImagePlugin.PngImageFile image mode=RGB size=16x16 at 0x7FFB149AE6A0> (12, 0)\n",
      "REPLACING <PIL.PngImagePlugin.PngImageFile image mode=RGB size=16x16 at 0x7FFB149AE6A0> (13, 0)\n",
      "REPLACING <PIL.PngImagePlugin.PngImageFile image mode=RGB size=16x16 at 0x7FFB149AE6A0> (14, 0)\n",
      "REPLACING <PIL.PngImagePlugin.PngImageFile image mode=RGB size=16x16 at 0x7FFB149AE6A0> (15, 0)\n",
      "REPLACING <PIL.PngImagePlugin.PngImageFile image mode=RGB size=16x16 at 0x7FFB149AE6A0> (16, 0)\n",
      "REPLACING <PIL.PngImagePlugin.PngImageFile image mode=RGB size=16x16 at 0x7FFB149AE6A0> (17, 0)\n",
      "REPLACING <PIL.PngImagePlugin.PngImageFile image mode=RGB size=16x16 at 0x7FFB149AE6A0> (18, 0)\n",
      "REPLACING <PIL.PngImagePlugin.PngImageFile image mode=RGB size=16x16 at 0x7FFB149AE6A0> (19, 0)\n",
      "REPLACING <PIL.PngImagePlugin.PngImageFile image mode=RGB size=16x16 at 0x7FFB149AE6A0> (0, 1)\n",
      "REPLACING <PIL.PngImagePlugin.PngImageFile image mode=RGB size=16x16 at 0x7FFB149AE6A0> (1, 1)\n",
      "REPLACING <PIL.PngImagePlugin.PngImageFile image mode=RGB size=16x16 at 0x7FFB149AE6A0> (2, 1)\n",
      "REPLACING <PIL.PngImagePlugin.PngImageFile image mode=RGB size=16x16 at 0x7FFB149AE6A0> (3, 1)\n",
      "REPLACING <PIL.PngImagePlugin.PngImageFile image mode=RGB size=16x16 at 0x7FFB149AE6A0> (4, 1)\n",
      "REPLACING <PIL.PngImagePlugin.PngImageFile image mode=RGB size=16x16 at 0x7FFB149AE6A0> (5, 1)\n",
      "REPLACING <PIL.PngImagePlugin.PngImageFile image mode=RGB size=16x16 at 0x7FFB149AE6A0> (6, 1)\n",
      "REPLACING <PIL.PngImagePlugin.PngImageFile image mode=RGB size=16x16 at 0x7FFB149AE6A0> (7, 1)\n",
      "REPLACING <PIL.PngImagePlugin.PngImageFile image mode=RGB size=16x16 at 0x7FFB149AE6A0> (8, 1)\n",
      "REPLACING <PIL.PngImagePlugin.PngImageFile image mode=RGB size=16x16 at 0x7FFB149AE6A0> (9, 1)\n",
      "REPLACING <PIL.PngImagePlugin.PngImageFile image mode=RGB size=16x16 at 0x7FFB149AE6A0> (10, 1)\n",
      "REPLACING <PIL.PngImagePlugin.PngImageFile image mode=RGB size=16x16 at 0x7FFB149AE6A0> (11, 1)\n",
      "REPLACING <PIL.PngImagePlugin.PngImageFile image mode=RGB size=16x16 at 0x7FFB149AE6A0> (12, 1)\n",
      "REPLACING <PIL.PngImagePlugin.PngImageFile image mode=RGB size=16x16 at 0x7FFB149AE6A0> (13, 1)\n",
      "REPLACING <PIL.PngImagePlugin.PngImageFile image mode=RGB size=16x16 at 0x7FFB149AE6A0> (14, 1)\n",
      "REPLACING <PIL.PngImagePlugin.PngImageFile image mode=RGB size=16x16 at 0x7FFB149AE6A0> (15, 1)\n",
      "REPLACING <PIL.PngImagePlugin.PngImageFile image mode=RGB size=16x16 at 0x7FFB149AE6A0> (18, 1)\n",
      "REPLACING <PIL.PngImagePlugin.PngImageFile image mode=RGB size=16x16 at 0x7FFB149AE6A0> (19, 1)\n",
      "REPLACING <PIL.PngImagePlugin.PngImageFile image mode=RGB size=16x16 at 0x7FFB149AE6A0> (0, 2)\n",
      "REPLACING <PIL.PngImagePlugin.PngImageFile image mode=RGB size=16x16 at 0x7FFB149AE6A0> (1, 2)\n",
      "REPLACING <PIL.PngImagePlugin.PngImageFile image mode=RGB size=16x16 at 0x7FFB149AE6A0> (2, 2)\n",
      "REPLACING <PIL.PngImagePlugin.PngImageFile image mode=RGB size=16x16 at 0x7FFB149AE6A0> (3, 2)\n",
      "REPLACING <PIL.PngImagePlugin.PngImageFile image mode=RGB size=16x16 at 0x7FFB149AE6A0> (4, 2)\n",
      "REPLACING <PIL.PngImagePlugin.PngImageFile image mode=RGB size=16x16 at 0x7FFB149AE6A0> (5, 2)\n",
      "REPLACING <PIL.PngImagePlugin.PngImageFile image mode=RGB size=16x16 at 0x7FFB149AE6A0> (6, 2)\n",
      "REPLACING <PIL.PngImagePlugin.PngImageFile image mode=RGB size=16x16 at 0x7FFB149AE6A0> (7, 2)\n",
      "REPLACING <PIL.PngImagePlugin.PngImageFile image mode=RGB size=16x16 at 0x7FFB149AE6A0> (8, 2)\n",
      "REPLACING <PIL.PngImagePlugin.PngImageFile image mode=RGB size=16x16 at 0x7FFB149AE6A0> (9, 2)\n",
      "REPLACING <PIL.PngImagePlugin.PngImageFile image mode=RGB size=16x16 at 0x7FFB149AE6A0> (10, 2)\n",
      "REPLACING <PIL.PngImagePlugin.PngImageFile image mode=RGB size=16x16 at 0x7FFB149AE6A0> (11, 2)\n",
      "REPLACING <PIL.PngImagePlugin.PngImageFile image mode=RGB size=16x16 at 0x7FFB149AE6A0> (12, 2)\n",
      "REPLACING <PIL.PngImagePlugin.PngImageFile image mode=RGB size=16x16 at 0x7FFB149AE6A0> (13, 2)\n",
      "REPLACING <PIL.PngImagePlugin.PngImageFile image mode=RGB size=16x16 at 0x7FFB149AE6A0> (14, 2)\n",
      "REPLACING <PIL.PngImagePlugin.PngImageFile image mode=RGB size=16x16 at 0x7FFB149AE6A0> (16, 2)\n",
      "REPLACING <PIL.PngImagePlugin.PngImageFile image mode=RGB size=16x16 at 0x7FFB149AE6A0> (17, 2)\n",
      "REPLACING <PIL.PngImagePlugin.PngImageFile image mode=RGB size=16x16 at 0x7FFB149AE6A0> (18, 2)\n",
      "REPLACING <PIL.PngImagePlugin.PngImageFile image mode=RGB size=16x16 at 0x7FFB149AE6A0> (19, 2)\n",
      "REPLACING <PIL.PngImagePlugin.PngImageFile image mode=RGB size=16x16 at 0x7FFB149AE6A0> (0, 3)\n",
      "REPLACING <PIL.PngImagePlugin.PngImageFile image mode=RGB size=16x16 at 0x7FFB149AE6A0> (1, 3)\n",
      "REPLACING <PIL.PngImagePlugin.PngImageFile image mode=RGB size=16x16 at 0x7FFB149AE6A0> (2, 3)\n",
      "REPLACING <PIL.PngImagePlugin.PngImageFile image mode=RGB size=16x16 at 0x7FFB149AE6A0> (3, 3)\n",
      "REPLACING <PIL.PngImagePlugin.PngImageFile image mode=RGB size=16x16 at 0x7FFB149AE6A0> (4, 3)\n",
      "REPLACING <PIL.PngImagePlugin.PngImageFile image mode=RGB size=16x16 at 0x7FFB149AE6A0> (5, 3)\n",
      "REPLACING <PIL.PngImagePlugin.PngImageFile image mode=RGB size=16x16 at 0x7FFB149AE6A0> (6, 3)\n",
      "REPLACING <PIL.PngImagePlugin.PngImageFile image mode=RGB size=16x16 at 0x7FFB149AE6A0> (7, 3)\n",
      "REPLACING <PIL.PngImagePlugin.PngImageFile image mode=RGB size=16x16 at 0x7FFB149AE6A0> (8, 3)\n",
      "REPLACING <PIL.PngImagePlugin.PngImageFile image mode=RGB size=16x16 at 0x7FFB149AE6A0> (9, 3)\n",
      "REPLACING <PIL.PngImagePlugin.PngImageFile image mode=RGB size=16x16 at 0x7FFB149AE6A0> (11, 3)\n",
      "REPLACING <PIL.PngImagePlugin.PngImageFile image mode=RGB size=16x16 at 0x7FFB149AE6A0> (12, 3)\n",
      "REPLACING <PIL.PngImagePlugin.PngImageFile image mode=RGB size=16x16 at 0x7FFB149AE6A0> (14, 3)\n",
      "REPLACING <PIL.PngImagePlugin.PngImageFile image mode=RGB size=16x16 at 0x7FFB149AE6A0> (15, 3)\n",
      "REPLACING <PIL.PngImagePlugin.PngImageFile image mode=RGB size=16x16 at 0x7FFB149AE6A0> (16, 3)\n",
      "REPLACING <PIL.PngImagePlugin.PngImageFile image mode=RGB size=16x16 at 0x7FFB149AE6A0> (17, 3)\n",
      "REPLACING <PIL.PngImagePlugin.PngImageFile image mode=RGB size=16x16 at 0x7FFB149AE6A0> (19, 3)\n",
      "REPLACING <PIL.PngImagePlugin.PngImageFile image mode=RGB size=16x16 at 0x7FFB149AE6A0> (0, 4)\n",
      "REPLACING <PIL.PngImagePlugin.PngImageFile image mode=RGB size=16x16 at 0x7FFB149AE6A0> (1, 4)\n",
      "REPLACING <PIL.PngImagePlugin.PngImageFile image mode=RGB size=16x16 at 0x7FFB149AE6A0> (2, 4)\n",
      "REPLACING <PIL.PngImagePlugin.PngImageFile image mode=RGB size=16x16 at 0x7FFB149AE6A0> (3, 4)\n",
      "REPLACING <PIL.PngImagePlugin.PngImageFile image mode=RGB size=16x16 at 0x7FFB149AE6A0> (4, 4)\n",
      "REPLACING <PIL.PngImagePlugin.PngImageFile image mode=RGB size=16x16 at 0x7FFB149AE6A0> (5, 4)\n",
      "REPLACING <PIL.PngImagePlugin.PngImageFile image mode=RGB size=16x16 at 0x7FFB149AE6A0> (6, 4)\n",
      "REPLACING <PIL.PngImagePlugin.PngImageFile image mode=RGB size=16x16 at 0x7FFB149AE6A0> (7, 4)\n",
      "REPLACING <PIL.PngImagePlugin.PngImageFile image mode=RGB size=16x16 at 0x7FFB149AE6A0> (8, 4)\n",
      "REPLACING <PIL.PngImagePlugin.PngImageFile image mode=RGB size=16x16 at 0x7FFB149AE6A0> (9, 4)\n",
      "REPLACING <PIL.PngImagePlugin.PngImageFile image mode=RGB size=16x16 at 0x7FFB149AE6A0> (10, 4)\n",
      "REPLACING <PIL.PngImagePlugin.PngImageFile image mode=RGB size=16x16 at 0x7FFB149AE6A0> (11, 4)\n",
      "REPLACING <PIL.PngImagePlugin.PngImageFile image mode=RGB size=16x16 at 0x7FFB149AE6A0> (12, 4)\n",
      "REPLACING <PIL.PngImagePlugin.PngImageFile image mode=RGB size=16x16 at 0x7FFB149AE6A0> (13, 4)\n",
      "REPLACING <PIL.PngImagePlugin.PngImageFile image mode=RGB size=16x16 at 0x7FFB149AE6A0> (14, 4)\n",
      "REPLACING <PIL.PngImagePlugin.PngImageFile image mode=RGB size=16x16 at 0x7FFB149AE6A0> (16, 4)\n",
      "REPLACING <PIL.PngImagePlugin.PngImageFile image mode=RGB size=16x16 at 0x7FFB149AE6A0> (17, 4)\n",
      "REPLACING <PIL.PngImagePlugin.PngImageFile image mode=RGB size=16x16 at 0x7FFB149AE6A0> (18, 4)\n",
      "REPLACING <PIL.PngImagePlugin.PngImageFile image mode=RGB size=16x16 at 0x7FFB149AE6A0> (0, 5)\n",
      "REPLACING <PIL.PngImagePlugin.PngImageFile image mode=RGB size=16x16 at 0x7FFB149AE6A0> (1, 5)\n",
      "REPLACING <PIL.PngImagePlugin.PngImageFile image mode=RGB size=16x16 at 0x7FFB149AE6A0> (2, 5)\n",
      "REPLACING <PIL.PngImagePlugin.PngImageFile image mode=RGB size=16x16 at 0x7FFB149AE6A0> (3, 5)\n",
      "REPLACING <PIL.PngImagePlugin.PngImageFile image mode=RGB size=16x16 at 0x7FFB149AE6A0> (4, 5)\n",
      "REPLACING <PIL.PngImagePlugin.PngImageFile image mode=RGB size=16x16 at 0x7FFB149AE6A0> (5, 5)\n",
      "REPLACING <PIL.PngImagePlugin.PngImageFile image mode=RGB size=16x16 at 0x7FFB149AE6A0> (6, 5)\n",
      "REPLACING <PIL.PngImagePlugin.PngImageFile image mode=RGB size=16x16 at 0x7FFB149AE6A0> (7, 5)\n",
      "REPLACING <PIL.PngImagePlugin.PngImageFile image mode=RGB size=16x16 at 0x7FFB149AE6A0> (8, 5)\n",
      "REPLACING <PIL.PngImagePlugin.PngImageFile image mode=RGB size=16x16 at 0x7FFB149AE6A0> (9, 5)\n",
      "REPLACING <PIL.PngImagePlugin.PngImageFile image mode=RGB size=16x16 at 0x7FFB149AE6A0> (10, 5)\n",
      "REPLACING <PIL.PngImagePlugin.PngImageFile image mode=RGB size=16x16 at 0x7FFB149AE6A0> (11, 5)\n",
      "REPLACING <PIL.PngImagePlugin.PngImageFile image mode=RGB size=16x16 at 0x7FFB149AE6A0> (13, 5)\n",
      "REPLACING <PIL.PngImagePlugin.PngImageFile image mode=RGB size=16x16 at 0x7FFB149AE6A0> (15, 5)\n",
      "REPLACING <PIL.PngImagePlugin.PngImageFile image mode=RGB size=16x16 at 0x7FFB149AE6A0> (16, 5)\n",
      "REPLACING <PIL.PngImagePlugin.PngImageFile image mode=RGB size=16x16 at 0x7FFB149AE6A0> (17, 5)\n",
      "REPLACING <PIL.PngImagePlugin.PngImageFile image mode=RGB size=16x16 at 0x7FFB149AE6A0> (18, 5)\n",
      "REPLACING <PIL.PngImagePlugin.PngImageFile image mode=RGB size=16x16 at 0x7FFB149AE6A0> (19, 5)\n",
      "REPLACING <PIL.PngImagePlugin.PngImageFile image mode=RGB size=16x16 at 0x7FFB149AE6A0> (0, 6)\n",
      "REPLACING <PIL.PngImagePlugin.PngImageFile image mode=RGB size=16x16 at 0x7FFB149AE6A0> (1, 6)\n",
      "REPLACING <PIL.PngImagePlugin.PngImageFile image mode=RGB size=16x16 at 0x7FFB149AE6A0> (2, 6)\n",
      "REPLACING <PIL.PngImagePlugin.PngImageFile image mode=RGB size=16x16 at 0x7FFB149AE6A0> (3, 6)\n",
      "REPLACING <PIL.PngImagePlugin.PngImageFile image mode=RGB size=16x16 at 0x7FFB149AE6A0> (4, 6)\n",
      "REPLACING <PIL.PngImagePlugin.PngImageFile image mode=RGB size=16x16 at 0x7FFB149AE6A0> (5, 6)\n",
      "REPLACING <PIL.PngImagePlugin.PngImageFile image mode=RGB size=16x16 at 0x7FFB149AE6A0> (6, 6)\n",
      "REPLACING <PIL.PngImagePlugin.PngImageFile image mode=RGB size=16x16 at 0x7FFB149AE6A0> (7, 6)\n",
      "REPLACING <PIL.PngImagePlugin.PngImageFile image mode=RGB size=16x16 at 0x7FFB149AE6A0> (8, 6)\n",
      "REPLACING <PIL.PngImagePlugin.PngImageFile image mode=RGB size=16x16 at 0x7FFB149AE6A0> (11, 6)\n",
      "REPLACING <PIL.PngImagePlugin.PngImageFile image mode=RGB size=16x16 at 0x7FFB149AE6A0> (12, 6)\n",
      "REPLACING <PIL.PngImagePlugin.PngImageFile image mode=RGB size=16x16 at 0x7FFB149AE6A0> (13, 6)\n",
      "REPLACING <PIL.PngImagePlugin.PngImageFile image mode=RGB size=16x16 at 0x7FFB149AE6A0> (14, 6)\n",
      "REPLACING <PIL.PngImagePlugin.PngImageFile image mode=RGB size=16x16 at 0x7FFB149AE6A0> (15, 6)\n",
      "REPLACING <PIL.PngImagePlugin.PngImageFile image mode=RGB size=16x16 at 0x7FFB149AE6A0> (16, 6)\n",
      "REPLACING <PIL.PngImagePlugin.PngImageFile image mode=RGB size=16x16 at 0x7FFB149AE6A0> (17, 6)\n",
      "REPLACING <PIL.PngImagePlugin.PngImageFile image mode=RGB size=16x16 at 0x7FFB149AE6A0> (18, 6)\n",
      "REPLACING <PIL.PngImagePlugin.PngImageFile image mode=RGB size=16x16 at 0x7FFB149AE6A0> (19, 6)\n",
      "REPLACING <PIL.PngImagePlugin.PngImageFile image mode=RGB size=16x16 at 0x7FFB149AE6A0> (0, 7)\n",
      "REPLACING <PIL.PngImagePlugin.PngImageFile image mode=RGB size=16x16 at 0x7FFB149AE6A0> (1, 7)\n",
      "REPLACING <PIL.PngImagePlugin.PngImageFile image mode=RGB size=16x16 at 0x7FFB149AE6A0> (2, 7)\n",
      "REPLACING <PIL.PngImagePlugin.PngImageFile image mode=RGB size=16x16 at 0x7FFB149AE6A0> (3, 7)\n",
      "REPLACING <PIL.PngImagePlugin.PngImageFile image mode=RGB size=16x16 at 0x7FFB149AE6A0> (4, 7)\n",
      "REPLACING <PIL.PngImagePlugin.PngImageFile image mode=RGB size=16x16 at 0x7FFB149AE6A0> (5, 7)\n",
      "REPLACING <PIL.PngImagePlugin.PngImageFile image mode=RGB size=16x16 at 0x7FFB149AE6A0> (6, 7)\n",
      "REPLACING <PIL.PngImagePlugin.PngImageFile image mode=RGB size=16x16 at 0x7FFB149AE6A0> (7, 7)\n",
      "REPLACING <PIL.PngImagePlugin.PngImageFile image mode=RGB size=16x16 at 0x7FFB149AE6A0> (8, 7)\n",
      "REPLACING <PIL.PngImagePlugin.PngImageFile image mode=RGB size=16x16 at 0x7FFB149AE6A0> (10, 7)\n",
      "REPLACING <PIL.PngImagePlugin.PngImageFile image mode=RGB size=16x16 at 0x7FFB149AE6A0> (12, 7)\n",
      "REPLACING <PIL.PngImagePlugin.PngImageFile image mode=RGB size=16x16 at 0x7FFB149AE6A0> (13, 7)\n",
      "REPLACING <PIL.PngImagePlugin.PngImageFile image mode=RGB size=16x16 at 0x7FFB149AE6A0> (14, 7)\n",
      "REPLACING <PIL.PngImagePlugin.PngImageFile image mode=RGB size=16x16 at 0x7FFB149AE6A0> (15, 7)\n",
      "REPLACING <PIL.PngImagePlugin.PngImageFile image mode=RGB size=16x16 at 0x7FFB149AE6A0> (16, 7)\n",
      "REPLACING <PIL.PngImagePlugin.PngImageFile image mode=RGB size=16x16 at 0x7FFB149AE6A0> (17, 7)\n",
      "REPLACING <PIL.PngImagePlugin.PngImageFile image mode=RGB size=16x16 at 0x7FFB149AE6A0> (18, 7)\n",
      "REPLACING <PIL.PngImagePlugin.PngImageFile image mode=RGB size=16x16 at 0x7FFB149AE6A0> (19, 7)\n",
      "REPLACING <PIL.PngImagePlugin.PngImageFile image mode=RGB size=16x16 at 0x7FFB149AE6A0> (0, 8)\n",
      "REPLACING <PIL.PngImagePlugin.PngImageFile image mode=RGB size=16x16 at 0x7FFB149AE6A0> (1, 8)\n",
      "REPLACING <PIL.PngImagePlugin.PngImageFile image mode=RGB size=16x16 at 0x7FFB149AE6A0> (2, 8)\n",
      "REPLACING <PIL.PngImagePlugin.PngImageFile image mode=RGB size=16x16 at 0x7FFB149AE6A0> (3, 8)\n",
      "REPLACING <PIL.PngImagePlugin.PngImageFile image mode=RGB size=16x16 at 0x7FFB149AE6A0> (4, 8)\n",
      "REPLACING <PIL.PngImagePlugin.PngImageFile image mode=RGB size=16x16 at 0x7FFB149AE6A0> (5, 8)\n",
      "REPLACING <PIL.PngImagePlugin.PngImageFile image mode=RGB size=16x16 at 0x7FFB149AE6A0> (6, 8)\n",
      "REPLACING <PIL.PngImagePlugin.PngImageFile image mode=RGB size=16x16 at 0x7FFB149AE6A0> (7, 8)\n",
      "REPLACING <PIL.PngImagePlugin.PngImageFile image mode=RGB size=16x16 at 0x7FFB149AE6A0> (8, 8)\n",
      "REPLACING <PIL.PngImagePlugin.PngImageFile image mode=RGB size=16x16 at 0x7FFB149AE6A0> (9, 8)\n",
      "REPLACING <PIL.PngImagePlugin.PngImageFile image mode=RGB size=16x16 at 0x7FFB149AE6A0> (11, 8)\n",
      "REPLACING <PIL.PngImagePlugin.PngImageFile image mode=RGB size=16x16 at 0x7FFB149AE6A0> (13, 8)\n",
      "REPLACING <PIL.PngImagePlugin.PngImageFile image mode=RGB size=16x16 at 0x7FFB149AE6A0> (14, 8)\n",
      "REPLACING <PIL.PngImagePlugin.PngImageFile image mode=RGB size=16x16 at 0x7FFB149AE6A0> (15, 8)\n",
      "REPLACING <PIL.PngImagePlugin.PngImageFile image mode=RGB size=16x16 at 0x7FFB149AE6A0> (16, 8)\n",
      "REPLACING <PIL.PngImagePlugin.PngImageFile image mode=RGB size=16x16 at 0x7FFB149AE6A0> (17, 8)\n",
      "REPLACING <PIL.PngImagePlugin.PngImageFile image mode=RGB size=16x16 at 0x7FFB149AE6A0> (18, 8)\n",
      "REPLACING <PIL.PngImagePlugin.PngImageFile image mode=RGB size=16x16 at 0x7FFB149AE6A0> (19, 8)\n",
      "REPLACING <PIL.PngImagePlugin.PngImageFile image mode=RGB size=16x16 at 0x7FFB149AE6A0> (0, 9)\n",
      "REPLACING <PIL.PngImagePlugin.PngImageFile image mode=RGB size=16x16 at 0x7FFB149AE6A0> (1, 9)\n",
      "REPLACING <PIL.PngImagePlugin.PngImageFile image mode=RGB size=16x16 at 0x7FFB149AE6A0> (2, 9)\n",
      "REPLACING <PIL.PngImagePlugin.PngImageFile image mode=RGB size=16x16 at 0x7FFB149AE6A0> (3, 9)\n",
      "REPLACING <PIL.PngImagePlugin.PngImageFile image mode=RGB size=16x16 at 0x7FFB149AE6A0> (4, 9)\n",
      "REPLACING <PIL.PngImagePlugin.PngImageFile image mode=RGB size=16x16 at 0x7FFB149AE6A0> (5, 9)\n",
      "REPLACING <PIL.PngImagePlugin.PngImageFile image mode=RGB size=16x16 at 0x7FFB149AE6A0> (6, 9)\n",
      "REPLACING <PIL.PngImagePlugin.PngImageFile image mode=RGB size=16x16 at 0x7FFB149AE6A0> (7, 9)\n",
      "REPLACING <PIL.PngImagePlugin.PngImageFile image mode=RGB size=16x16 at 0x7FFB149AE6A0> (8, 9)\n",
      "REPLACING <PIL.PngImagePlugin.PngImageFile image mode=RGB size=16x16 at 0x7FFB149AE6A0> (9, 9)\n",
      "REPLACING <PIL.PngImagePlugin.PngImageFile image mode=RGB size=16x16 at 0x7FFB149AE6A0> (10, 9)\n",
      "REPLACING <PIL.PngImagePlugin.PngImageFile image mode=RGB size=16x16 at 0x7FFB149AE6A0> (11, 9)\n",
      "REPLACING <PIL.PngImagePlugin.PngImageFile image mode=RGB size=16x16 at 0x7FFB149AE6A0> (12, 9)\n",
      "REPLACING <PIL.PngImagePlugin.PngImageFile image mode=RGB size=16x16 at 0x7FFB149AE6A0> (13, 9)\n",
      "REPLACING <PIL.PngImagePlugin.PngImageFile image mode=RGB size=16x16 at 0x7FFB149AE6A0> (14, 9)\n",
      "REPLACING <PIL.PngImagePlugin.PngImageFile image mode=RGB size=16x16 at 0x7FFB149AE6A0> (15, 9)\n",
      "REPLACING <PIL.PngImagePlugin.PngImageFile image mode=RGB size=16x16 at 0x7FFB149AE6A0> (16, 9)\n",
      "REPLACING <PIL.PngImagePlugin.PngImageFile image mode=RGB size=16x16 at 0x7FFB149AE6A0> (17, 9)\n",
      "REPLACING <PIL.PngImagePlugin.PngImageFile image mode=RGB size=16x16 at 0x7FFB149AE6A0> (18, 9)\n",
      "REPLACING <PIL.PngImagePlugin.PngImageFile image mode=RGB size=16x16 at 0x7FFB149AE6A0> (19, 9)\n",
      "REPLACING <PIL.PngImagePlugin.PngImageFile image mode=RGB size=16x16 at 0x7FFB149AE6A0> (1, 10)\n",
      "REPLACING <PIL.PngImagePlugin.PngImageFile image mode=RGB size=16x16 at 0x7FFB149AE6A0> (2, 10)\n",
      "REPLACING <PIL.PngImagePlugin.PngImageFile image mode=RGB size=16x16 at 0x7FFB149AE6A0> (3, 10)\n",
      "REPLACING <PIL.PngImagePlugin.PngImageFile image mode=RGB size=16x16 at 0x7FFB149AE6A0> (4, 10)\n",
      "REPLACING <PIL.PngImagePlugin.PngImageFile image mode=RGB size=16x16 at 0x7FFB149AE6A0> (5, 10)\n",
      "REPLACING <PIL.PngImagePlugin.PngImageFile image mode=RGB size=16x16 at 0x7FFB149AE6A0> (6, 10)\n",
      "REPLACING <PIL.PngImagePlugin.PngImageFile image mode=RGB size=16x16 at 0x7FFB149AE6A0> (7, 10)\n",
      "REPLACING <PIL.PngImagePlugin.PngImageFile image mode=RGB size=16x16 at 0x7FFB149AE6A0> (9, 10)\n",
      "REPLACING <PIL.PngImagePlugin.PngImageFile image mode=RGB size=16x16 at 0x7FFB149AE6A0> (11, 10)\n",
      "REPLACING <PIL.PngImagePlugin.PngImageFile image mode=RGB size=16x16 at 0x7FFB149AE6A0> (12, 10)\n",
      "REPLACING <PIL.PngImagePlugin.PngImageFile image mode=RGB size=16x16 at 0x7FFB149AE6A0> (13, 10)\n",
      "REPLACING <PIL.PngImagePlugin.PngImageFile image mode=RGB size=16x16 at 0x7FFB149AE6A0> (14, 10)\n",
      "REPLACING <PIL.PngImagePlugin.PngImageFile image mode=RGB size=16x16 at 0x7FFB149AE6A0> (15, 10)\n",
      "REPLACING <PIL.PngImagePlugin.PngImageFile image mode=RGB size=16x16 at 0x7FFB149AE6A0> (16, 10)\n",
      "REPLACING <PIL.PngImagePlugin.PngImageFile image mode=RGB size=16x16 at 0x7FFB149AE6A0> (17, 10)\n",
      "REPLACING <PIL.PngImagePlugin.PngImageFile image mode=RGB size=16x16 at 0x7FFB149AE6A0> (18, 10)\n",
      "REPLACING <PIL.PngImagePlugin.PngImageFile image mode=RGB size=16x16 at 0x7FFB149AE6A0> (19, 10)\n",
      "REPLACING <PIL.PngImagePlugin.PngImageFile image mode=RGB size=16x16 at 0x7FFB149AE6A0> (0, 11)\n",
      "REPLACING <PIL.PngImagePlugin.PngImageFile image mode=RGB size=16x16 at 0x7FFB149AE6A0> (2, 11)\n",
      "REPLACING <PIL.PngImagePlugin.PngImageFile image mode=RGB size=16x16 at 0x7FFB149AE6A0> (3, 11)\n",
      "REPLACING <PIL.PngImagePlugin.PngImageFile image mode=RGB size=16x16 at 0x7FFB149AE6A0> (4, 11)\n",
      "REPLACING <PIL.PngImagePlugin.PngImageFile image mode=RGB size=16x16 at 0x7FFB149AE6A0> (5, 11)\n",
      "REPLACING <PIL.PngImagePlugin.PngImageFile image mode=RGB size=16x16 at 0x7FFB149AE6A0> (6, 11)\n",
      "REPLACING <PIL.PngImagePlugin.PngImageFile image mode=RGB size=16x16 at 0x7FFB149AE6A0> (7, 11)\n",
      "REPLACING <PIL.PngImagePlugin.PngImageFile image mode=RGB size=16x16 at 0x7FFB149AE6A0> (8, 11)\n",
      "REPLACING <PIL.PngImagePlugin.PngImageFile image mode=RGB size=16x16 at 0x7FFB149AE6A0> (10, 11)\n",
      "REPLACING <PIL.PngImagePlugin.PngImageFile image mode=RGB size=16x16 at 0x7FFB149AE6A0> (12, 11)\n",
      "REPLACING <PIL.PngImagePlugin.PngImageFile image mode=RGB size=16x16 at 0x7FFB149AE6A0> (13, 11)\n",
      "REPLACING <PIL.PngImagePlugin.PngImageFile image mode=RGB size=16x16 at 0x7FFB149AE6A0> (14, 11)\n",
      "REPLACING <PIL.PngImagePlugin.PngImageFile image mode=RGB size=16x16 at 0x7FFB149AE6A0> (15, 11)\n",
      "REPLACING <PIL.PngImagePlugin.PngImageFile image mode=RGB size=16x16 at 0x7FFB149AE6A0> (16, 11)\n",
      "REPLACING <PIL.PngImagePlugin.PngImageFile image mode=RGB size=16x16 at 0x7FFB149AE6A0> (17, 11)\n",
      "REPLACING <PIL.PngImagePlugin.PngImageFile image mode=RGB size=16x16 at 0x7FFB149AE6A0> (18, 11)\n",
      "REPLACING <PIL.PngImagePlugin.PngImageFile image mode=RGB size=16x16 at 0x7FFB149AE6A0> (19, 11)\n",
      "REPLACING <PIL.PngImagePlugin.PngImageFile image mode=RGB size=16x16 at 0x7FFB149AE6A0> (0, 12)\n",
      "REPLACING <PIL.PngImagePlugin.PngImageFile image mode=RGB size=16x16 at 0x7FFB149AE6A0> (1, 12)\n",
      "REPLACING <PIL.PngImagePlugin.PngImageFile image mode=RGB size=16x16 at 0x7FFB149AE6A0> (2, 12)\n",
      "REPLACING <PIL.PngImagePlugin.PngImageFile image mode=RGB size=16x16 at 0x7FFB149AE6A0> (3, 12)\n",
      "REPLACING <PIL.PngImagePlugin.PngImageFile image mode=RGB size=16x16 at 0x7FFB149AE6A0> (4, 12)\n",
      "REPLACING <PIL.PngImagePlugin.PngImageFile image mode=RGB size=16x16 at 0x7FFB149AE6A0> (5, 12)\n",
      "REPLACING <PIL.PngImagePlugin.PngImageFile image mode=RGB size=16x16 at 0x7FFB149AE6A0> (6, 12)\n",
      "REPLACING <PIL.PngImagePlugin.PngImageFile image mode=RGB size=16x16 at 0x7FFB149AE6A0> (7, 12)\n",
      "REPLACING <PIL.PngImagePlugin.PngImageFile image mode=RGB size=16x16 at 0x7FFB149AE6A0> (8, 12)\n",
      "REPLACING <PIL.PngImagePlugin.PngImageFile image mode=RGB size=16x16 at 0x7FFB149AE6A0> (9, 12)\n",
      "REPLACING <PIL.PngImagePlugin.PngImageFile image mode=RGB size=16x16 at 0x7FFB149AE6A0> (10, 12)\n",
      "REPLACING <PIL.PngImagePlugin.PngImageFile image mode=RGB size=16x16 at 0x7FFB149AE6A0> (11, 12)\n",
      "REPLACING <PIL.PngImagePlugin.PngImageFile image mode=RGB size=16x16 at 0x7FFB149AE6A0> (12, 12)\n",
      "REPLACING <PIL.PngImagePlugin.PngImageFile image mode=RGB size=16x16 at 0x7FFB149AE6A0> (13, 12)\n",
      "REPLACING <PIL.PngImagePlugin.PngImageFile image mode=RGB size=16x16 at 0x7FFB149AE6A0> (14, 12)\n",
      "REPLACING <PIL.PngImagePlugin.PngImageFile image mode=RGB size=16x16 at 0x7FFB149AE6A0> (15, 12)\n",
      "REPLACING <PIL.PngImagePlugin.PngImageFile image mode=RGB size=16x16 at 0x7FFB149AE6A0> (16, 12)\n",
      "REPLACING <PIL.PngImagePlugin.PngImageFile image mode=RGB size=16x16 at 0x7FFB149AE6A0> (17, 12)\n",
      "REPLACING <PIL.PngImagePlugin.PngImageFile image mode=RGB size=16x16 at 0x7FFB149AE6A0> (18, 12)\n",
      "REPLACING <PIL.PngImagePlugin.PngImageFile image mode=RGB size=16x16 at 0x7FFB149AE6A0> (19, 12)\n",
      "REPLACING <PIL.PngImagePlugin.PngImageFile image mode=RGB size=16x16 at 0x7FFB149AE6A0> (1, 13)\n",
      "REPLACING <PIL.PngImagePlugin.PngImageFile image mode=RGB size=16x16 at 0x7FFB149AE6A0> (2, 13)\n",
      "REPLACING <PIL.PngImagePlugin.PngImageFile image mode=RGB size=16x16 at 0x7FFB149AE6A0> (4, 13)\n",
      "REPLACING <PIL.PngImagePlugin.PngImageFile image mode=RGB size=16x16 at 0x7FFB149AE6A0> (5, 13)\n",
      "REPLACING <PIL.PngImagePlugin.PngImageFile image mode=RGB size=16x16 at 0x7FFB149AE6A0> (6, 13)\n",
      "REPLACING <PIL.PngImagePlugin.PngImageFile image mode=RGB size=16x16 at 0x7FFB149AE6A0> (7, 13)\n",
      "REPLACING <PIL.PngImagePlugin.PngImageFile image mode=RGB size=16x16 at 0x7FFB149AE6A0> (8, 13)\n",
      "REPLACING <PIL.PngImagePlugin.PngImageFile image mode=RGB size=16x16 at 0x7FFB149AE6A0> (9, 13)\n",
      "REPLACING <PIL.PngImagePlugin.PngImageFile image mode=RGB size=16x16 at 0x7FFB149AE6A0> (10, 13)\n",
      "REPLACING <PIL.PngImagePlugin.PngImageFile image mode=RGB size=16x16 at 0x7FFB149AE6A0> (11, 13)\n",
      "REPLACING <PIL.PngImagePlugin.PngImageFile image mode=RGB size=16x16 at 0x7FFB149AE6A0> (12, 13)\n",
      "REPLACING <PIL.PngImagePlugin.PngImageFile image mode=RGB size=16x16 at 0x7FFB149AE6A0> (13, 13)\n",
      "REPLACING <PIL.PngImagePlugin.PngImageFile image mode=RGB size=16x16 at 0x7FFB149AE6A0> (14, 13)\n",
      "REPLACING <PIL.PngImagePlugin.PngImageFile image mode=RGB size=16x16 at 0x7FFB149AE6A0> (15, 13)\n",
      "REPLACING <PIL.PngImagePlugin.PngImageFile image mode=RGB size=16x16 at 0x7FFB149AE6A0> (16, 13)\n",
      "REPLACING <PIL.PngImagePlugin.PngImageFile image mode=RGB size=16x16 at 0x7FFB149AE6A0> (17, 13)\n",
      "REPLACING <PIL.PngImagePlugin.PngImageFile image mode=RGB size=16x16 at 0x7FFB149AE6A0> (18, 13)\n",
      "REPLACING <PIL.PngImagePlugin.PngImageFile image mode=RGB size=16x16 at 0x7FFB149AE6A0> (19, 13)\n",
      "REPLACING <PIL.PngImagePlugin.PngImageFile image mode=RGB size=16x16 at 0x7FFB149AE6A0> (0, 0)\n",
      "REPLACING <PIL.PngImagePlugin.PngImageFile image mode=RGB size=16x16 at 0x7FFB149AE6A0> (1, 0)\n",
      "REPLACING <PIL.PngImagePlugin.PngImageFile image mode=RGB size=16x16 at 0x7FFB149AE6A0> (3, 0)\n",
      "REPLACING <PIL.PngImagePlugin.PngImageFile image mode=RGB size=16x16 at 0x7FFB149AE6A0> (4, 0)\n",
      "REPLACING <PIL.PngImagePlugin.PngImageFile image mode=RGB size=16x16 at 0x7FFB149AE6A0> (5, 0)\n",
      "REPLACING <PIL.PngImagePlugin.PngImageFile image mode=RGB size=16x16 at 0x7FFB149AE6A0> (6, 0)\n",
      "REPLACING <PIL.PngImagePlugin.PngImageFile image mode=RGB size=16x16 at 0x7FFB149AE6A0> (7, 0)\n",
      "REPLACING <PIL.PngImagePlugin.PngImageFile image mode=RGB size=16x16 at 0x7FFB149AE6A0> (8, 0)\n",
      "REPLACING <PIL.PngImagePlugin.PngImageFile image mode=RGB size=16x16 at 0x7FFB149AE6A0> (9, 0)\n",
      "REPLACING <PIL.PngImagePlugin.PngImageFile image mode=RGB size=16x16 at 0x7FFB149AE6A0> (10, 0)\n",
      "REPLACING <PIL.PngImagePlugin.PngImageFile image mode=RGB size=16x16 at 0x7FFB149AE6A0> (11, 0)\n",
      "REPLACING <PIL.PngImagePlugin.PngImageFile image mode=RGB size=16x16 at 0x7FFB149AE6A0> (12, 0)\n",
      "REPLACING <PIL.PngImagePlugin.PngImageFile image mode=RGB size=16x16 at 0x7FFB149AE6A0> (13, 0)\n",
      "REPLACING <PIL.PngImagePlugin.PngImageFile image mode=RGB size=16x16 at 0x7FFB149AE6A0> (14, 0)\n",
      "REPLACING <PIL.PngImagePlugin.PngImageFile image mode=RGB size=16x16 at 0x7FFB149AE6A0> (15, 0)\n",
      "REPLACING <PIL.PngImagePlugin.PngImageFile image mode=RGB size=16x16 at 0x7FFB149AE6A0> (16, 0)\n",
      "REPLACING <PIL.PngImagePlugin.PngImageFile image mode=RGB size=16x16 at 0x7FFB149AE6A0> (17, 0)\n",
      "REPLACING <PIL.PngImagePlugin.PngImageFile image mode=RGB size=16x16 at 0x7FFB149AE6A0> (18, 0)\n",
      "REPLACING <PIL.PngImagePlugin.PngImageFile image mode=RGB size=16x16 at 0x7FFB149AE6A0> (19, 0)\n",
      "REPLACING <PIL.PngImagePlugin.PngImageFile image mode=RGB size=16x16 at 0x7FFB149AE6A0> (0, 1)\n",
      "REPLACING <PIL.PngImagePlugin.PngImageFile image mode=RGB size=16x16 at 0x7FFB149AE6A0> (1, 1)\n",
      "REPLACING <PIL.PngImagePlugin.PngImageFile image mode=RGB size=16x16 at 0x7FFB149AE6A0> (2, 1)\n",
      "REPLACING <PIL.PngImagePlugin.PngImageFile image mode=RGB size=16x16 at 0x7FFB149AE6A0> (3, 1)\n",
      "REPLACING <PIL.PngImagePlugin.PngImageFile image mode=RGB size=16x16 at 0x7FFB149AE6A0> (4, 1)\n",
      "REPLACING <PIL.PngImagePlugin.PngImageFile image mode=RGB size=16x16 at 0x7FFB149AE6A0> (5, 1)\n",
      "REPLACING <PIL.PngImagePlugin.PngImageFile image mode=RGB size=16x16 at 0x7FFB149AE6A0> (6, 1)\n",
      "REPLACING <PIL.PngImagePlugin.PngImageFile image mode=RGB size=16x16 at 0x7FFB149AE6A0> (7, 1)\n",
      "REPLACING <PIL.PngImagePlugin.PngImageFile image mode=RGB size=16x16 at 0x7FFB149AE6A0> (8, 1)\n",
      "REPLACING <PIL.PngImagePlugin.PngImageFile image mode=RGB size=16x16 at 0x7FFB149AE6A0> (9, 1)\n",
      "REPLACING <PIL.PngImagePlugin.PngImageFile image mode=RGB size=16x16 at 0x7FFB149AE6A0> (10, 1)\n",
      "REPLACING <PIL.PngImagePlugin.PngImageFile image mode=RGB size=16x16 at 0x7FFB149AE6A0> (11, 1)\n",
      "REPLACING <PIL.PngImagePlugin.PngImageFile image mode=RGB size=16x16 at 0x7FFB149AE6A0> (12, 1)\n",
      "REPLACING <PIL.PngImagePlugin.PngImageFile image mode=RGB size=16x16 at 0x7FFB149AE6A0> (13, 1)\n",
      "REPLACING <PIL.PngImagePlugin.PngImageFile image mode=RGB size=16x16 at 0x7FFB149AE6A0> (14, 1)\n",
      "REPLACING <PIL.PngImagePlugin.PngImageFile image mode=RGB size=16x16 at 0x7FFB149AE6A0> (15, 1)\n",
      "REPLACING <PIL.PngImagePlugin.PngImageFile image mode=RGB size=16x16 at 0x7FFB149AE6A0> (16, 1)\n",
      "REPLACING <PIL.PngImagePlugin.PngImageFile image mode=RGB size=16x16 at 0x7FFB149AE6A0> (17, 1)\n",
      "REPLACING <PIL.PngImagePlugin.PngImageFile image mode=RGB size=16x16 at 0x7FFB149AE6A0> (18, 1)\n",
      "REPLACING <PIL.PngImagePlugin.PngImageFile image mode=RGB size=16x16 at 0x7FFB149AE6A0> (19, 1)\n",
      "REPLACING <PIL.PngImagePlugin.PngImageFile image mode=RGB size=16x16 at 0x7FFB149AE6A0> (0, 2)\n",
      "REPLACING <PIL.PngImagePlugin.PngImageFile image mode=RGB size=16x16 at 0x7FFB149AE6A0> (1, 2)\n",
      "REPLACING <PIL.PngImagePlugin.PngImageFile image mode=RGB size=16x16 at 0x7FFB149AE6A0> (2, 2)\n",
      "REPLACING <PIL.PngImagePlugin.PngImageFile image mode=RGB size=16x16 at 0x7FFB149AE6A0> (3, 2)\n",
      "REPLACING <PIL.PngImagePlugin.PngImageFile image mode=RGB size=16x16 at 0x7FFB149AE6A0> (4, 2)\n",
      "REPLACING <PIL.PngImagePlugin.PngImageFile image mode=RGB size=16x16 at 0x7FFB149AE6A0> (5, 2)\n",
      "REPLACING <PIL.PngImagePlugin.PngImageFile image mode=RGB size=16x16 at 0x7FFB149AE6A0> (6, 2)\n",
      "REPLACING <PIL.PngImagePlugin.PngImageFile image mode=RGB size=16x16 at 0x7FFB149AE6A0> (7, 2)\n",
      "REPLACING <PIL.PngImagePlugin.PngImageFile image mode=RGB size=16x16 at 0x7FFB149AE6A0> (8, 2)\n",
      "REPLACING <PIL.PngImagePlugin.PngImageFile image mode=RGB size=16x16 at 0x7FFB149AE6A0> (9, 2)\n",
      "REPLACING <PIL.PngImagePlugin.PngImageFile image mode=RGB size=16x16 at 0x7FFB149AE6A0> (10, 2)\n",
      "REPLACING <PIL.PngImagePlugin.PngImageFile image mode=RGB size=16x16 at 0x7FFB149AE6A0> (11, 2)\n",
      "REPLACING <PIL.PngImagePlugin.PngImageFile image mode=RGB size=16x16 at 0x7FFB149AE6A0> (12, 2)\n",
      "REPLACING <PIL.PngImagePlugin.PngImageFile image mode=RGB size=16x16 at 0x7FFB149AE6A0> (13, 2)\n",
      "REPLACING <PIL.PngImagePlugin.PngImageFile image mode=RGB size=16x16 at 0x7FFB149AE6A0> (14, 2)\n",
      "REPLACING <PIL.PngImagePlugin.PngImageFile image mode=RGB size=16x16 at 0x7FFB149AE6A0> (15, 2)\n",
      "REPLACING <PIL.PngImagePlugin.PngImageFile image mode=RGB size=16x16 at 0x7FFB149AE6A0> (18, 2)\n",
      "REPLACING <PIL.PngImagePlugin.PngImageFile image mode=RGB size=16x16 at 0x7FFB149AE6A0> (19, 2)\n",
      "REPLACING <PIL.PngImagePlugin.PngImageFile image mode=RGB size=16x16 at 0x7FFB149AE6A0> (0, 3)\n",
      "REPLACING <PIL.PngImagePlugin.PngImageFile image mode=RGB size=16x16 at 0x7FFB149AE6A0> (1, 3)\n",
      "REPLACING <PIL.PngImagePlugin.PngImageFile image mode=RGB size=16x16 at 0x7FFB149AE6A0> (2, 3)\n",
      "REPLACING <PIL.PngImagePlugin.PngImageFile image mode=RGB size=16x16 at 0x7FFB149AE6A0> (3, 3)\n",
      "REPLACING <PIL.PngImagePlugin.PngImageFile image mode=RGB size=16x16 at 0x7FFB149AE6A0> (4, 3)\n",
      "REPLACING <PIL.PngImagePlugin.PngImageFile image mode=RGB size=16x16 at 0x7FFB149AE6A0> (5, 3)\n",
      "REPLACING <PIL.PngImagePlugin.PngImageFile image mode=RGB size=16x16 at 0x7FFB149AE6A0> (6, 3)\n",
      "REPLACING <PIL.PngImagePlugin.PngImageFile image mode=RGB size=16x16 at 0x7FFB149AE6A0> (7, 3)\n",
      "REPLACING <PIL.PngImagePlugin.PngImageFile image mode=RGB size=16x16 at 0x7FFB149AE6A0> (8, 3)\n",
      "REPLACING <PIL.PngImagePlugin.PngImageFile image mode=RGB size=16x16 at 0x7FFB149AE6A0> (9, 3)\n",
      "REPLACING <PIL.PngImagePlugin.PngImageFile image mode=RGB size=16x16 at 0x7FFB149AE6A0> (10, 3)\n",
      "REPLACING <PIL.PngImagePlugin.PngImageFile image mode=RGB size=16x16 at 0x7FFB149AE6A0> (11, 3)\n",
      "REPLACING <PIL.PngImagePlugin.PngImageFile image mode=RGB size=16x16 at 0x7FFB149AE6A0> (12, 3)\n",
      "REPLACING <PIL.PngImagePlugin.PngImageFile image mode=RGB size=16x16 at 0x7FFB149AE6A0> (13, 3)\n",
      "REPLACING <PIL.PngImagePlugin.PngImageFile image mode=RGB size=16x16 at 0x7FFB149AE6A0> (14, 3)\n",
      "REPLACING <PIL.PngImagePlugin.PngImageFile image mode=RGB size=16x16 at 0x7FFB149AE6A0> (16, 3)\n",
      "REPLACING <PIL.PngImagePlugin.PngImageFile image mode=RGB size=16x16 at 0x7FFB149AE6A0> (17, 3)\n",
      "REPLACING <PIL.PngImagePlugin.PngImageFile image mode=RGB size=16x16 at 0x7FFB149AE6A0> (18, 3)\n",
      "REPLACING <PIL.PngImagePlugin.PngImageFile image mode=RGB size=16x16 at 0x7FFB149AE6A0> (19, 3)\n",
      "REPLACING <PIL.PngImagePlugin.PngImageFile image mode=RGB size=16x16 at 0x7FFB149AE6A0> (0, 4)\n",
      "REPLACING <PIL.PngImagePlugin.PngImageFile image mode=RGB size=16x16 at 0x7FFB149AE6A0> (1, 4)\n",
      "REPLACING <PIL.PngImagePlugin.PngImageFile image mode=RGB size=16x16 at 0x7FFB149AE6A0> (2, 4)\n",
      "REPLACING <PIL.PngImagePlugin.PngImageFile image mode=RGB size=16x16 at 0x7FFB149AE6A0> (3, 4)\n",
      "REPLACING <PIL.PngImagePlugin.PngImageFile image mode=RGB size=16x16 at 0x7FFB149AE6A0> (4, 4)\n",
      "REPLACING <PIL.PngImagePlugin.PngImageFile image mode=RGB size=16x16 at 0x7FFB149AE6A0> (5, 4)\n",
      "REPLACING <PIL.PngImagePlugin.PngImageFile image mode=RGB size=16x16 at 0x7FFB149AE6A0> (6, 4)\n",
      "REPLACING <PIL.PngImagePlugin.PngImageFile image mode=RGB size=16x16 at 0x7FFB149AE6A0> (7, 4)\n",
      "REPLACING <PIL.PngImagePlugin.PngImageFile image mode=RGB size=16x16 at 0x7FFB149AE6A0> (8, 4)\n",
      "REPLACING <PIL.PngImagePlugin.PngImageFile image mode=RGB size=16x16 at 0x7FFB149AE6A0> (9, 4)\n",
      "REPLACING <PIL.PngImagePlugin.PngImageFile image mode=RGB size=16x16 at 0x7FFB149AE6A0> (11, 4)\n",
      "REPLACING <PIL.PngImagePlugin.PngImageFile image mode=RGB size=16x16 at 0x7FFB149AE6A0> (12, 4)\n",
      "REPLACING <PIL.PngImagePlugin.PngImageFile image mode=RGB size=16x16 at 0x7FFB149AE6A0> (14, 4)\n",
      "REPLACING <PIL.PngImagePlugin.PngImageFile image mode=RGB size=16x16 at 0x7FFB149AE6A0> (15, 4)\n",
      "REPLACING <PIL.PngImagePlugin.PngImageFile image mode=RGB size=16x16 at 0x7FFB149AE6A0> (16, 4)\n",
      "REPLACING <PIL.PngImagePlugin.PngImageFile image mode=RGB size=16x16 at 0x7FFB149AE6A0> (17, 4)\n",
      "REPLACING <PIL.PngImagePlugin.PngImageFile image mode=RGB size=16x16 at 0x7FFB149AE6A0> (19, 4)\n",
      "REPLACING <PIL.PngImagePlugin.PngImageFile image mode=RGB size=16x16 at 0x7FFB149AE6A0> (0, 5)\n",
      "REPLACING <PIL.PngImagePlugin.PngImageFile image mode=RGB size=16x16 at 0x7FFB149AE6A0> (1, 5)\n",
      "REPLACING <PIL.PngImagePlugin.PngImageFile image mode=RGB size=16x16 at 0x7FFB149AE6A0> (2, 5)\n",
      "REPLACING <PIL.PngImagePlugin.PngImageFile image mode=RGB size=16x16 at 0x7FFB149AE6A0> (3, 5)\n",
      "REPLACING <PIL.PngImagePlugin.PngImageFile image mode=RGB size=16x16 at 0x7FFB149AE6A0> (4, 5)\n",
      "REPLACING <PIL.PngImagePlugin.PngImageFile image mode=RGB size=16x16 at 0x7FFB149AE6A0> (5, 5)\n",
      "REPLACING <PIL.PngImagePlugin.PngImageFile image mode=RGB size=16x16 at 0x7FFB149AE6A0> (6, 5)\n",
      "REPLACING <PIL.PngImagePlugin.PngImageFile image mode=RGB size=16x16 at 0x7FFB149AE6A0> (7, 5)\n",
      "REPLACING <PIL.PngImagePlugin.PngImageFile image mode=RGB size=16x16 at 0x7FFB149AE6A0> (8, 5)\n",
      "REPLACING <PIL.PngImagePlugin.PngImageFile image mode=RGB size=16x16 at 0x7FFB149AE6A0> (9, 5)\n",
      "REPLACING <PIL.PngImagePlugin.PngImageFile image mode=RGB size=16x16 at 0x7FFB149AE6A0> (10, 5)\n",
      "REPLACING <PIL.PngImagePlugin.PngImageFile image mode=RGB size=16x16 at 0x7FFB149AE6A0> (11, 5)\n",
      "REPLACING <PIL.PngImagePlugin.PngImageFile image mode=RGB size=16x16 at 0x7FFB149AE6A0> (12, 5)\n",
      "REPLACING <PIL.PngImagePlugin.PngImageFile image mode=RGB size=16x16 at 0x7FFB149AE6A0> (13, 5)\n",
      "REPLACING <PIL.PngImagePlugin.PngImageFile image mode=RGB size=16x16 at 0x7FFB149AE6A0> (14, 5)\n",
      "REPLACING <PIL.PngImagePlugin.PngImageFile image mode=RGB size=16x16 at 0x7FFB149AE6A0> (16, 5)\n",
      "REPLACING <PIL.PngImagePlugin.PngImageFile image mode=RGB size=16x16 at 0x7FFB149AE6A0> (17, 5)\n",
      "REPLACING <PIL.PngImagePlugin.PngImageFile image mode=RGB size=16x16 at 0x7FFB149AE6A0> (18, 5)\n",
      "REPLACING <PIL.PngImagePlugin.PngImageFile image mode=RGB size=16x16 at 0x7FFB149AE6A0> (0, 6)\n",
      "REPLACING <PIL.PngImagePlugin.PngImageFile image mode=RGB size=16x16 at 0x7FFB149AE6A0> (1, 6)\n",
      "REPLACING <PIL.PngImagePlugin.PngImageFile image mode=RGB size=16x16 at 0x7FFB149AE6A0> (2, 6)\n",
      "REPLACING <PIL.PngImagePlugin.PngImageFile image mode=RGB size=16x16 at 0x7FFB149AE6A0> (3, 6)\n",
      "REPLACING <PIL.PngImagePlugin.PngImageFile image mode=RGB size=16x16 at 0x7FFB149AE6A0> (4, 6)\n",
      "REPLACING <PIL.PngImagePlugin.PngImageFile image mode=RGB size=16x16 at 0x7FFB149AE6A0> (5, 6)\n",
      "REPLACING <PIL.PngImagePlugin.PngImageFile image mode=RGB size=16x16 at 0x7FFB149AE6A0> (6, 6)\n",
      "REPLACING <PIL.PngImagePlugin.PngImageFile image mode=RGB size=16x16 at 0x7FFB149AE6A0> (7, 6)\n",
      "REPLACING <PIL.PngImagePlugin.PngImageFile image mode=RGB size=16x16 at 0x7FFB149AE6A0> (8, 6)\n",
      "REPLACING <PIL.PngImagePlugin.PngImageFile image mode=RGB size=16x16 at 0x7FFB149AE6A0> (9, 6)\n",
      "REPLACING <PIL.PngImagePlugin.PngImageFile image mode=RGB size=16x16 at 0x7FFB149AE6A0> (10, 6)\n",
      "REPLACING <PIL.PngImagePlugin.PngImageFile image mode=RGB size=16x16 at 0x7FFB149AE6A0> (11, 6)\n",
      "REPLACING <PIL.PngImagePlugin.PngImageFile image mode=RGB size=16x16 at 0x7FFB149AE6A0> (13, 6)\n",
      "REPLACING <PIL.PngImagePlugin.PngImageFile image mode=RGB size=16x16 at 0x7FFB149AE6A0> (15, 6)\n",
      "REPLACING <PIL.PngImagePlugin.PngImageFile image mode=RGB size=16x16 at 0x7FFB149AE6A0> (16, 6)\n",
      "REPLACING <PIL.PngImagePlugin.PngImageFile image mode=RGB size=16x16 at 0x7FFB149AE6A0> (17, 6)\n",
      "REPLACING <PIL.PngImagePlugin.PngImageFile image mode=RGB size=16x16 at 0x7FFB149AE6A0> (18, 6)\n",
      "REPLACING <PIL.PngImagePlugin.PngImageFile image mode=RGB size=16x16 at 0x7FFB149AE6A0> (19, 6)\n",
      "REPLACING <PIL.PngImagePlugin.PngImageFile image mode=RGB size=16x16 at 0x7FFB149AE6A0> (0, 7)\n",
      "REPLACING <PIL.PngImagePlugin.PngImageFile image mode=RGB size=16x16 at 0x7FFB149AE6A0> (1, 7)\n",
      "REPLACING <PIL.PngImagePlugin.PngImageFile image mode=RGB size=16x16 at 0x7FFB149AE6A0> (2, 7)\n",
      "REPLACING <PIL.PngImagePlugin.PngImageFile image mode=RGB size=16x16 at 0x7FFB149AE6A0> (3, 7)\n",
      "REPLACING <PIL.PngImagePlugin.PngImageFile image mode=RGB size=16x16 at 0x7FFB149AE6A0> (4, 7)\n",
      "REPLACING <PIL.PngImagePlugin.PngImageFile image mode=RGB size=16x16 at 0x7FFB149AE6A0> (5, 7)\n",
      "REPLACING <PIL.PngImagePlugin.PngImageFile image mode=RGB size=16x16 at 0x7FFB149AE6A0> (6, 7)\n",
      "REPLACING <PIL.PngImagePlugin.PngImageFile image mode=RGB size=16x16 at 0x7FFB149AE6A0> (7, 7)\n",
      "REPLACING <PIL.PngImagePlugin.PngImageFile image mode=RGB size=16x16 at 0x7FFB149AE6A0> (8, 7)\n",
      "REPLACING <PIL.PngImagePlugin.PngImageFile image mode=RGB size=16x16 at 0x7FFB149AE6A0> (11, 7)\n",
      "REPLACING <PIL.PngImagePlugin.PngImageFile image mode=RGB size=16x16 at 0x7FFB149AE6A0> (12, 7)\n",
      "REPLACING <PIL.PngImagePlugin.PngImageFile image mode=RGB size=16x16 at 0x7FFB149AE6A0> (13, 7)\n",
      "REPLACING <PIL.PngImagePlugin.PngImageFile image mode=RGB size=16x16 at 0x7FFB149AE6A0> (14, 7)\n",
      "REPLACING <PIL.PngImagePlugin.PngImageFile image mode=RGB size=16x16 at 0x7FFB149AE6A0> (15, 7)\n",
      "REPLACING <PIL.PngImagePlugin.PngImageFile image mode=RGB size=16x16 at 0x7FFB149AE6A0> (16, 7)\n",
      "REPLACING <PIL.PngImagePlugin.PngImageFile image mode=RGB size=16x16 at 0x7FFB149AE6A0> (17, 7)\n",
      "REPLACING <PIL.PngImagePlugin.PngImageFile image mode=RGB size=16x16 at 0x7FFB149AE6A0> (18, 7)\n",
      "REPLACING <PIL.PngImagePlugin.PngImageFile image mode=RGB size=16x16 at 0x7FFB149AE6A0> (19, 7)\n",
      "REPLACING <PIL.PngImagePlugin.PngImageFile image mode=RGB size=16x16 at 0x7FFB149AE6A0> (0, 8)\n",
      "REPLACING <PIL.PngImagePlugin.PngImageFile image mode=RGB size=16x16 at 0x7FFB149AE6A0> (1, 8)\n",
      "REPLACING <PIL.PngImagePlugin.PngImageFile image mode=RGB size=16x16 at 0x7FFB149AE6A0> (2, 8)\n",
      "REPLACING <PIL.PngImagePlugin.PngImageFile image mode=RGB size=16x16 at 0x7FFB149AE6A0> (3, 8)\n",
      "REPLACING <PIL.PngImagePlugin.PngImageFile image mode=RGB size=16x16 at 0x7FFB149AE6A0> (4, 8)\n",
      "REPLACING <PIL.PngImagePlugin.PngImageFile image mode=RGB size=16x16 at 0x7FFB149AE6A0> (5, 8)\n",
      "REPLACING <PIL.PngImagePlugin.PngImageFile image mode=RGB size=16x16 at 0x7FFB149AE6A0> (6, 8)\n",
      "REPLACING <PIL.PngImagePlugin.PngImageFile image mode=RGB size=16x16 at 0x7FFB149AE6A0> (7, 8)\n",
      "REPLACING <PIL.PngImagePlugin.PngImageFile image mode=RGB size=16x16 at 0x7FFB149AE6A0> (8, 8)\n",
      "REPLACING <PIL.PngImagePlugin.PngImageFile image mode=RGB size=16x16 at 0x7FFB149AE6A0> (10, 8)\n",
      "REPLACING <PIL.PngImagePlugin.PngImageFile image mode=RGB size=16x16 at 0x7FFB149AE6A0> (12, 8)\n",
      "REPLACING <PIL.PngImagePlugin.PngImageFile image mode=RGB size=16x16 at 0x7FFB149AE6A0> (13, 8)\n",
      "REPLACING <PIL.PngImagePlugin.PngImageFile image mode=RGB size=16x16 at 0x7FFB149AE6A0> (14, 8)\n",
      "REPLACING <PIL.PngImagePlugin.PngImageFile image mode=RGB size=16x16 at 0x7FFB149AE6A0> (15, 8)\n",
      "REPLACING <PIL.PngImagePlugin.PngImageFile image mode=RGB size=16x16 at 0x7FFB149AE6A0> (16, 8)\n",
      "REPLACING <PIL.PngImagePlugin.PngImageFile image mode=RGB size=16x16 at 0x7FFB149AE6A0> (17, 8)\n",
      "REPLACING <PIL.PngImagePlugin.PngImageFile image mode=RGB size=16x16 at 0x7FFB149AE6A0> (18, 8)\n",
      "REPLACING <PIL.PngImagePlugin.PngImageFile image mode=RGB size=16x16 at 0x7FFB149AE6A0> (19, 8)\n",
      "REPLACING <PIL.PngImagePlugin.PngImageFile image mode=RGB size=16x16 at 0x7FFB149AE6A0> (0, 9)\n",
      "REPLACING <PIL.PngImagePlugin.PngImageFile image mode=RGB size=16x16 at 0x7FFB149AE6A0> (1, 9)\n",
      "REPLACING <PIL.PngImagePlugin.PngImageFile image mode=RGB size=16x16 at 0x7FFB149AE6A0> (2, 9)\n",
      "REPLACING <PIL.PngImagePlugin.PngImageFile image mode=RGB size=16x16 at 0x7FFB149AE6A0> (3, 9)\n",
      "REPLACING <PIL.PngImagePlugin.PngImageFile image mode=RGB size=16x16 at 0x7FFB149AE6A0> (4, 9)\n",
      "REPLACING <PIL.PngImagePlugin.PngImageFile image mode=RGB size=16x16 at 0x7FFB149AE6A0> (5, 9)\n",
      "REPLACING <PIL.PngImagePlugin.PngImageFile image mode=RGB size=16x16 at 0x7FFB149AE6A0> (6, 9)\n",
      "REPLACING <PIL.PngImagePlugin.PngImageFile image mode=RGB size=16x16 at 0x7FFB149AE6A0> (7, 9)\n",
      "REPLACING <PIL.PngImagePlugin.PngImageFile image mode=RGB size=16x16 at 0x7FFB149AE6A0> (8, 9)\n",
      "REPLACING <PIL.PngImagePlugin.PngImageFile image mode=RGB size=16x16 at 0x7FFB149AE6A0> (9, 9)\n",
      "REPLACING <PIL.PngImagePlugin.PngImageFile image mode=RGB size=16x16 at 0x7FFB149AE6A0> (11, 9)\n",
      "REPLACING <PIL.PngImagePlugin.PngImageFile image mode=RGB size=16x16 at 0x7FFB149AE6A0> (13, 9)\n",
      "REPLACING <PIL.PngImagePlugin.PngImageFile image mode=RGB size=16x16 at 0x7FFB149AE6A0> (14, 9)\n",
      "REPLACING <PIL.PngImagePlugin.PngImageFile image mode=RGB size=16x16 at 0x7FFB149AE6A0> (15, 9)\n",
      "REPLACING <PIL.PngImagePlugin.PngImageFile image mode=RGB size=16x16 at 0x7FFB149AE6A0> (16, 9)\n",
      "REPLACING <PIL.PngImagePlugin.PngImageFile image mode=RGB size=16x16 at 0x7FFB149AE6A0> (17, 9)\n",
      "REPLACING <PIL.PngImagePlugin.PngImageFile image mode=RGB size=16x16 at 0x7FFB149AE6A0> (18, 9)\n",
      "REPLACING <PIL.PngImagePlugin.PngImageFile image mode=RGB size=16x16 at 0x7FFB149AE6A0> (19, 9)\n",
      "REPLACING <PIL.PngImagePlugin.PngImageFile image mode=RGB size=16x16 at 0x7FFB149AE6A0> (0, 10)\n",
      "REPLACING <PIL.PngImagePlugin.PngImageFile image mode=RGB size=16x16 at 0x7FFB149AE6A0> (1, 10)\n",
      "REPLACING <PIL.PngImagePlugin.PngImageFile image mode=RGB size=16x16 at 0x7FFB149AE6A0> (2, 10)\n",
      "REPLACING <PIL.PngImagePlugin.PngImageFile image mode=RGB size=16x16 at 0x7FFB149AE6A0> (3, 10)\n",
      "REPLACING <PIL.PngImagePlugin.PngImageFile image mode=RGB size=16x16 at 0x7FFB149AE6A0> (4, 10)\n",
      "REPLACING <PIL.PngImagePlugin.PngImageFile image mode=RGB size=16x16 at 0x7FFB149AE6A0> (5, 10)\n",
      "REPLACING <PIL.PngImagePlugin.PngImageFile image mode=RGB size=16x16 at 0x7FFB149AE6A0> (6, 10)\n",
      "REPLACING <PIL.PngImagePlugin.PngImageFile image mode=RGB size=16x16 at 0x7FFB149AE6A0> (7, 10)\n",
      "REPLACING <PIL.PngImagePlugin.PngImageFile image mode=RGB size=16x16 at 0x7FFB149AE6A0> (8, 10)\n",
      "REPLACING <PIL.PngImagePlugin.PngImageFile image mode=RGB size=16x16 at 0x7FFB149AE6A0> (9, 10)\n",
      "REPLACING <PIL.PngImagePlugin.PngImageFile image mode=RGB size=16x16 at 0x7FFB149AE6A0> (10, 10)\n",
      "REPLACING <PIL.PngImagePlugin.PngImageFile image mode=RGB size=16x16 at 0x7FFB149AE6A0> (11, 10)\n",
      "REPLACING <PIL.PngImagePlugin.PngImageFile image mode=RGB size=16x16 at 0x7FFB149AE6A0> (12, 10)\n",
      "REPLACING <PIL.PngImagePlugin.PngImageFile image mode=RGB size=16x16 at 0x7FFB149AE6A0> (13, 10)\n",
      "REPLACING <PIL.PngImagePlugin.PngImageFile image mode=RGB size=16x16 at 0x7FFB149AE6A0> (14, 10)\n",
      "REPLACING <PIL.PngImagePlugin.PngImageFile image mode=RGB size=16x16 at 0x7FFB149AE6A0> (15, 10)\n",
      "REPLACING <PIL.PngImagePlugin.PngImageFile image mode=RGB size=16x16 at 0x7FFB149AE6A0> (16, 10)\n",
      "REPLACING <PIL.PngImagePlugin.PngImageFile image mode=RGB size=16x16 at 0x7FFB149AE6A0> (17, 10)\n",
      "REPLACING <PIL.PngImagePlugin.PngImageFile image mode=RGB size=16x16 at 0x7FFB149AE6A0> (18, 10)\n",
      "REPLACING <PIL.PngImagePlugin.PngImageFile image mode=RGB size=16x16 at 0x7FFB149AE6A0> (19, 10)\n",
      "REPLACING <PIL.PngImagePlugin.PngImageFile image mode=RGB size=16x16 at 0x7FFB149AE6A0> (1, 11)\n",
      "REPLACING <PIL.PngImagePlugin.PngImageFile image mode=RGB size=16x16 at 0x7FFB149AE6A0> (2, 11)\n",
      "REPLACING <PIL.PngImagePlugin.PngImageFile image mode=RGB size=16x16 at 0x7FFB149AE6A0> (3, 11)\n",
      "REPLACING <PIL.PngImagePlugin.PngImageFile image mode=RGB size=16x16 at 0x7FFB149AE6A0> (4, 11)\n",
      "REPLACING <PIL.PngImagePlugin.PngImageFile image mode=RGB size=16x16 at 0x7FFB149AE6A0> (5, 11)\n",
      "REPLACING <PIL.PngImagePlugin.PngImageFile image mode=RGB size=16x16 at 0x7FFB149AE6A0> (6, 11)\n",
      "REPLACING <PIL.PngImagePlugin.PngImageFile image mode=RGB size=16x16 at 0x7FFB149AE6A0> (7, 11)\n",
      "REPLACING <PIL.PngImagePlugin.PngImageFile image mode=RGB size=16x16 at 0x7FFB149AE6A0> (9, 11)\n",
      "REPLACING <PIL.PngImagePlugin.PngImageFile image mode=RGB size=16x16 at 0x7FFB149AE6A0> (11, 11)\n",
      "REPLACING <PIL.PngImagePlugin.PngImageFile image mode=RGB size=16x16 at 0x7FFB149AE6A0> (12, 11)\n",
      "REPLACING <PIL.PngImagePlugin.PngImageFile image mode=RGB size=16x16 at 0x7FFB149AE6A0> (13, 11)\n",
      "REPLACING <PIL.PngImagePlugin.PngImageFile image mode=RGB size=16x16 at 0x7FFB149AE6A0> (14, 11)\n",
      "REPLACING <PIL.PngImagePlugin.PngImageFile image mode=RGB size=16x16 at 0x7FFB149AE6A0> (15, 11)\n",
      "REPLACING <PIL.PngImagePlugin.PngImageFile image mode=RGB size=16x16 at 0x7FFB149AE6A0> (16, 11)\n",
      "REPLACING <PIL.PngImagePlugin.PngImageFile image mode=RGB size=16x16 at 0x7FFB149AE6A0> (17, 11)\n",
      "REPLACING <PIL.PngImagePlugin.PngImageFile image mode=RGB size=16x16 at 0x7FFB149AE6A0> (18, 11)\n",
      "REPLACING <PIL.PngImagePlugin.PngImageFile image mode=RGB size=16x16 at 0x7FFB149AE6A0> (19, 11)\n",
      "REPLACING <PIL.PngImagePlugin.PngImageFile image mode=RGB size=16x16 at 0x7FFB149AE6A0> (0, 12)\n",
      "REPLACING <PIL.PngImagePlugin.PngImageFile image mode=RGB size=16x16 at 0x7FFB149AE6A0> (2, 12)\n",
      "REPLACING <PIL.PngImagePlugin.PngImageFile image mode=RGB size=16x16 at 0x7FFB149AE6A0> (3, 12)\n",
      "REPLACING <PIL.PngImagePlugin.PngImageFile image mode=RGB size=16x16 at 0x7FFB149AE6A0> (4, 12)\n",
      "REPLACING <PIL.PngImagePlugin.PngImageFile image mode=RGB size=16x16 at 0x7FFB149AE6A0> (5, 12)\n",
      "REPLACING <PIL.PngImagePlugin.PngImageFile image mode=RGB size=16x16 at 0x7FFB149AE6A0> (6, 12)\n",
      "REPLACING <PIL.PngImagePlugin.PngImageFile image mode=RGB size=16x16 at 0x7FFB149AE6A0> (7, 12)\n",
      "REPLACING <PIL.PngImagePlugin.PngImageFile image mode=RGB size=16x16 at 0x7FFB149AE6A0> (8, 12)\n",
      "REPLACING <PIL.PngImagePlugin.PngImageFile image mode=RGB size=16x16 at 0x7FFB149AE6A0> (10, 12)\n",
      "REPLACING <PIL.PngImagePlugin.PngImageFile image mode=RGB size=16x16 at 0x7FFB149AE6A0> (12, 12)\n",
      "REPLACING <PIL.PngImagePlugin.PngImageFile image mode=RGB size=16x16 at 0x7FFB149AE6A0> (13, 12)\n",
      "REPLACING <PIL.PngImagePlugin.PngImageFile image mode=RGB size=16x16 at 0x7FFB149AE6A0> (14, 12)\n",
      "REPLACING <PIL.PngImagePlugin.PngImageFile image mode=RGB size=16x16 at 0x7FFB149AE6A0> (15, 12)\n",
      "REPLACING <PIL.PngImagePlugin.PngImageFile image mode=RGB size=16x16 at 0x7FFB149AE6A0> (16, 12)\n",
      "REPLACING <PIL.PngImagePlugin.PngImageFile image mode=RGB size=16x16 at 0x7FFB149AE6A0> (17, 12)\n",
      "REPLACING <PIL.PngImagePlugin.PngImageFile image mode=RGB size=16x16 at 0x7FFB149AE6A0> (18, 12)\n",
      "REPLACING <PIL.PngImagePlugin.PngImageFile image mode=RGB size=16x16 at 0x7FFB149AE6A0> (19, 12)\n",
      "REPLACING <PIL.PngImagePlugin.PngImageFile image mode=RGB size=16x16 at 0x7FFB149AE6A0> (0, 13)\n",
      "REPLACING <PIL.PngImagePlugin.PngImageFile image mode=RGB size=16x16 at 0x7FFB149AE6A0> (1, 13)\n",
      "REPLACING <PIL.PngImagePlugin.PngImageFile image mode=RGB size=16x16 at 0x7FFB149AE6A0> (2, 13)\n",
      "REPLACING <PIL.PngImagePlugin.PngImageFile image mode=RGB size=16x16 at 0x7FFB149AE6A0> (3, 13)\n",
      "REPLACING <PIL.PngImagePlugin.PngImageFile image mode=RGB size=16x16 at 0x7FFB149AE6A0> (4, 13)\n",
      "REPLACING <PIL.PngImagePlugin.PngImageFile image mode=RGB size=16x16 at 0x7FFB149AE6A0> (5, 13)\n",
      "REPLACING <PIL.PngImagePlugin.PngImageFile image mode=RGB size=16x16 at 0x7FFB149AE6A0> (6, 13)\n",
      "REPLACING <PIL.PngImagePlugin.PngImageFile image mode=RGB size=16x16 at 0x7FFB149AE6A0> (7, 13)\n",
      "REPLACING <PIL.PngImagePlugin.PngImageFile image mode=RGB size=16x16 at 0x7FFB149AE6A0> (8, 13)\n",
      "REPLACING <PIL.PngImagePlugin.PngImageFile image mode=RGB size=16x16 at 0x7FFB149AE6A0> (9, 13)\n",
      "REPLACING <PIL.PngImagePlugin.PngImageFile image mode=RGB size=16x16 at 0x7FFB149AE6A0> (10, 13)\n",
      "REPLACING <PIL.PngImagePlugin.PngImageFile image mode=RGB size=16x16 at 0x7FFB149AE6A0> (11, 13)\n",
      "REPLACING <PIL.PngImagePlugin.PngImageFile image mode=RGB size=16x16 at 0x7FFB149AE6A0> (12, 13)\n",
      "REPLACING <PIL.PngImagePlugin.PngImageFile image mode=RGB size=16x16 at 0x7FFB149AE6A0> (13, 13)\n",
      "REPLACING <PIL.PngImagePlugin.PngImageFile image mode=RGB size=16x16 at 0x7FFB149AE6A0> (14, 13)\n",
      "REPLACING <PIL.PngImagePlugin.PngImageFile image mode=RGB size=16x16 at 0x7FFB149AE6A0> (15, 13)\n",
      "REPLACING <PIL.PngImagePlugin.PngImageFile image mode=RGB size=16x16 at 0x7FFB149AE6A0> (16, 13)\n",
      "REPLACING <PIL.PngImagePlugin.PngImageFile image mode=RGB size=16x16 at 0x7FFB149AE6A0> (17, 13)\n",
      "REPLACING <PIL.PngImagePlugin.PngImageFile image mode=RGB size=16x16 at 0x7FFB149AE6A0> (18, 13)\n",
      "REPLACING <PIL.PngImagePlugin.PngImageFile image mode=RGB size=16x16 at 0x7FFB149AE6A0> (19, 13)\n",
      "REPLACING <PIL.PngImagePlugin.PngImageFile image mode=RGB size=16x16 at 0x7FFB149A5520> (0, 13)\n"
     ]
    },
    {
     "data": {
      "image/png": "[encoded data removed]",
      "text/plain": [
       "<PIL.Image.Image image mode=RGB size=320x224>"
      ]
     },
     "execution_count": 81,
     "metadata": {},
     "output_type": "execute_result"
    }
   ],
   "source": [
    "prompts = [\" \"]\n",
    "generated_level = mario_lm.sample(\n",
    "    prompts=prompts,\n",
    "    num_steps=280,\n",
    "    temperature=1.0,\n",
    "    use_tqdm=True\n",
    ")\n",
    "\n",
    "img = convert_level_to_png(generated_level.level_tensor,  dataset.tokenizer)[0]\n",
    "img"
   ]
  },
  {
   "cell_type": "code",
   "execution_count": 75,
   "id": "cba08441-4e53-445a-b83b-7f4b6431fa92",
   "metadata": {
    "tags": []
   },
   "outputs": [
    {
     "name": "stdout",
     "output_type": "stream",
     "text": [
      "REPLACING <PIL.PngImagePlugin.PngImageFile image mode=RGB size=16x16 at 0x7FFB14AFD880> (0, 13)\n"
     ]
    },
    {
     "data": {
      "image/png": "[encoded data removed]",
      "text/plain": [
       "<PIL.Image.Image image mode=RGB size=160x224>"
      ]
     },
     "execution_count": 75,
     "metadata": {},
     "output_type": "execute_result"
    }
   ],
   "source": [
    "img = convert_level_to_png(A.level_tensor,  dataset.tokenizer)[0]\n",
    "img"
   ]
  },
  {
   "cell_type": "code",
   "execution_count": 72,
   "id": "8a63afa4-5172-464c-8d46-d63fe92d9b89",
   "metadata": {
    "tags": []
   },
   "outputs": [
    {
     "data": {
      "image/png": "[encoded data removed]",
      "text/plain": [
       "<PIL.Image.Image image mode=RGB size=800x224>"
      ]
     },
     "execution_count": 72,
     "metadata": {},
     "output_type": "execute_result"
    }
   ],
   "source": [
    "img = convert_level_to_png(dataset.input_ids[:700],  dataset.tokenizer)[0]\n",
    "img"
   ]
  },
  {
   "cell_type": "code",
   "execution_count": null,
   "id": "9568930e-eb41-4042-9c45-197fc4010a7a",
   "metadata": {},
   "outputs": [],
   "source": []
  }
 ],
 "metadata": {
  "kernelspec": {
   "display_name": "Python 3 (ipykernel)",
   "language": "python",
   "name": "python3"
  },
  "language_info": {
   "codemirror_mode": {
    "name": "ipython",
    "version": 3
   },
   "file_extension": ".py",
   "mimetype": "text/x-python",
   "name": "python",
   "nbconvert_exporter": "python",
   "pygments_lexer": "ipython3",
   "version": "3.9.16"
  }
 },
 "nbformat": 4,
 "nbformat_minor": 5
}
