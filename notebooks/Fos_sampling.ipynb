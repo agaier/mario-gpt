{
 "cells": [
  {
   "cell_type": "markdown",
   "id": "6db35712-44f4-4e69-9589-67a5cdab7f5d",
   "metadata": {},
   "source": [
    "## Load Stuff"
   ]
  },
  {
   "cell_type": "code",
   "execution_count": 11,
   "id": "cc50c35e-0dbe-4ffd-993d-280b28d4ce8f",
   "metadata": {
    "tags": []
   },
   "outputs": [],
   "source": [
    "import torch\n",
    "from mario_gpt import MarioDataset, MarioLM, TrainingConfig, MarioGPTTrainer\n",
    "from mario_gpt.utils import view_level, convert_level_to_png, join_list_of_list, characterize\n",
    "from mario_gpt.flower_level import FLOWER_LEVEL\n",
    "\n",
    "\n",
    "import numpy as np\n",
    "import matplotlib.pyplot as plt\n",
    "\n",
    "from IPython.display import clear_output\n",
    "\n",
    "from mario_gpt.fos_dataset import FosDataset\n"
   ]
  },
  {
   "cell_type": "code",
   "execution_count": 12,
   "id": "4693bf8d-9703-40ee-9024-6a9bfb57df25",
   "metadata": {
    "tags": []
   },
   "outputs": [
    {
     "name": "stdout",
     "output_type": "stream",
     "text": [
      "Using ../FosGPT_wfc0 lm\n",
      "Using ../FosGPT_wfc0 tokenizer\n",
      "\n",
      "\n",
      "\n"
     ]
    },
    {
     "name": "stderr",
     "output_type": "stream",
     "text": [
      "Token indices sequence length is longer than the specified maximum sequence length for this model (19609800 > 1024). Running this sequence through the model will result in indexing errors\n"
     ]
    },
    {
     "name": "stdout",
     "output_type": "stream",
     "text": [
      "wait\n"
     ]
    }
   ],
   "source": [
    "#---\n",
    "# load model and generate flowers\n",
    "#---\n",
    "img_length = 28\n",
    "height = 35\n",
    "\n",
    "# Check if a CUDA-compatible GPU is available and use it\n",
    "device = torch.device('cuda' if torch.cuda.is_available() else 'cpu')\n",
    "\n",
    "mario_lm = MarioLM(lm_path=\"../FosGPT_wfc0\", tokenizer_path=\"../FosGPT_wfc0\")\n",
    "mario_lm.to(device)\n",
    "\n",
    "dataset = FosDataset(mario_lm.tokenizer, level_string='/home/gaiera/Code/NZB/tile_gen/data/fos_wfc.json') # for token conversion and reference levels\n"
   ]
  },
  {
   "cell_type": "code",
   "execution_count": 16,
   "id": "c5b0de1e-1e17-4a52-8904-6f37901db5b4",
   "metadata": {
    "tags": []
   },
   "outputs": [],
   "source": [
    "# Generate a level\n",
    "prompts = [\" \"]\n",
    "generated_level = mario_lm.sample(\n",
    "    prompts=prompts,\n",
    "    num_steps=(height*img_length),\n",
    "    temperature=1.0,\n",
    "    use_tqdm=True\n",
    ")\n",
    "clear_output()"
   ]
  },
  {
   "cell_type": "code",
   "execution_count": 14,
   "id": "33693510-13e7-4929-9bf4-774b633ad21b",
   "metadata": {
    "tags": []
   },
   "outputs": [],
   "source": [
    "#print(generated_level)"
   ]
  },
  {
   "cell_type": "code",
   "execution_count": 15,
   "id": "cbf0b291-facb-419b-9dac-e278b1bf37f5",
   "metadata": {
    "tags": []
   },
   "outputs": [
    {
     "data": {
      "image/png": "[encoded data removed]",
      "text/plain": [
       "<Figure size 640x480 with 1 Axes>"
      ]
     },
     "metadata": {},
     "output_type": "display_data"
    },
    {
     "data": {
      "image/png": "[encoded data removed]",
      "text/plain": [
       "<Figure size 640x480 with 1 Axes>"
      ]
     },
     "metadata": {},
     "output_type": "display_data"
    }
   ],
   "source": [
    "def view_level(level, length=img_length , height=height):\n",
    "    A = np.rot90(np.reshape(level, [length,height]))\n",
    "    plt.imshow(A==40)\n",
    "    plt.show()\n",
    "    plt.imshow(A)\n",
    "    \n",
    "view_level(generated_level.level_tensor)"
   ]
  },
  {
   "cell_type": "code",
   "execution_count": null,
   "id": "88915c64-7f55-4344-ae5b-f6c587650a08",
   "metadata": {},
   "outputs": [],
   "source": []
  }
 ],
 "metadata": {
  "kernelspec": {
   "display_name": "Python 3 (ipykernel)",
   "language": "python",
   "name": "python3"
  },
  "language_info": {
   "codemirror_mode": {
    "name": "ipython",
    "version": 3
   },
   "file_extension": ".py",
   "mimetype": "text/x-python",
   "name": "python",
   "nbconvert_exporter": "python",
   "pygments_lexer": "ipython3",
   "version": "3.9.16"
  }
 },
 "nbformat": 4,
 "nbformat_minor": 5
}
