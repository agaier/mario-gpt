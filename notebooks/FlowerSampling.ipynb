{
 "cells": [
  {
   "cell_type": "markdown",
   "id": "6db35712-44f4-4e69-9589-67a5cdab7f5d",
   "metadata": {},
   "source": [
    "## Load Stuff"
   ]
  },
  {
   "cell_type": "code",
   "execution_count": 1,
   "id": "2af6c09a-e6b0-43d7-9a06-aeb8ac40c84f",
   "metadata": {
    "tags": []
   },
   "outputs": [],
   "source": [
    "%matplotlib inline\n",
    "%load_ext autoreload\n",
    "%autoreload 2\n",
    "from IPython.display import clear_output\n",
    "from matplotlib import pyplot as plt\n",
    "import numpy as np\n",
    "np.set_printoptions(precision=2) \n",
    "np.set_printoptions(linewidth=160)\n",
    "%config InlineBackend.print_figure_kwargs={'facecolor' : \"w\", 'bbox_inches': 'tight'}\n",
    "\n",
    "from matplotlib.font_manager import FontProperties\n",
    "\n",
    "\n",
    "import pickle\n",
    "import matplotlib.pyplot as plt\n",
    "plt.rcParams['font.family'] = 'DejaVu Sans'\n",
    "from IPython.display import Markdown\n"
   ]
  },
  {
   "cell_type": "code",
   "execution_count": 2,
   "id": "cc50c35e-0dbe-4ffd-993d-280b28d4ce8f",
   "metadata": {
    "tags": []
   },
   "outputs": [],
   "source": [
    "import torch\n",
    "from mario_gpt import MarioDataset, MarioLM, TrainingConfig, MarioGPTTrainer\n",
    "from mario_gpt.utils import view_level, convert_level_to_png, join_list_of_list, characterize\n",
    "from mario_gpt.fos_dataset import FosDataset\n",
    "\n",
    "from IPython.display import clear_output"
   ]
  },
  {
   "cell_type": "markdown",
   "id": "4699be1d-3dcf-4057-8a99-2a4f8e934f94",
   "metadata": {
    "tags": []
   },
   "source": [
    "### Load Model"
   ]
  },
  {
   "cell_type": "code",
   "execution_count": 7,
   "id": "7b104688-8fe4-4522-a46c-24aef1f64c0a",
   "metadata": {
    "tags": []
   },
   "outputs": [
    {
     "name": "stdout",
     "output_type": "stream",
     "text": [
      "Using ../FosGPT_wfc0/iteration_19999 lm\n",
      "Using ../FosGPT_wfc0 tokenizer\n"
     ]
    }
   ],
   "source": [
    "fos_lm = MarioLM(lm_path=\"../FosGPT_wfc0/iteration_19999\", tokenizer_path=\"../FosGPT_wfc0\")"
   ]
  },
  {
   "cell_type": "code",
   "execution_count": 25,
   "id": "fce233f2-29a1-47f0-9084-c93b8971dd96",
   "metadata": {
    "tags": []
   },
   "outputs": [],
   "source": [
    "img_length = 35\n",
    "\n",
    "prompts = [\" \"]\n",
    "generated_level = mario_lm.sample(\n",
    "    prompts=prompts,\n",
    "    num_steps=(28*img_length),\n",
    "    temperature=1.0,\n",
    "    use_tqdm=True,\n",
    "    height=35,\n",
    ")\n",
    "clear_output()"
   ]
  },
  {
   "cell_type": "code",
   "execution_count": 27,
   "id": "2b28bfba-8b59-4d57-98a9-28dd7aeba607",
   "metadata": {
    "tags": []
   },
   "outputs": [
    {
     "data": {
      "text/plain": [
       "<matplotlib.image.AxesImage at 0x7fb6384f9700>"
      ]
     },
     "execution_count": 27,
     "metadata": {},
     "output_type": "execute_result"
    },
    {
     "data": {
      "image/png": "[encoded data removed]",
      "text/plain": [
       "<Figure size 640x480 with 1 Axes>"
      ]
     },
     "metadata": {},
     "output_type": "display_data"
    }
   ],
   "source": [
    "A = np.reshape(generated_level.level_tensor, [28, 35])\n",
    "plt.imshow(A==36)"
   ]
  },
  {
   "cell_type": "code",
   "execution_count": 29,
   "id": "02da29c4-b7fe-41fd-b7a1-342912c3888f",
   "metadata": {
    "tags": []
   },
   "outputs": [
    {
     "name": "stdout",
     "output_type": "stream",
     "text": [
      "\n",
      "\n",
      "\n"
     ]
    },
    {
     "name": "stderr",
     "output_type": "stream",
     "text": [
      "/home/gaiera/Code/NZB/mario-gpt/mario_gpt/fos_dataset.py:119: VisibleDeprecationWarning: Creating an ndarray from ragged nested sequences (which is a list-or-tuple of lists-or-tuples-or ndarrays with different lengths or shapes) is deprecated. If you meant to do this, you must specify 'dtype=object' when creating the ndarray.\n",
      "  str_arr = flip_and_transpose(np.array(characterize(level)))\n",
      "Token indices sequence length is longer than the specified maximum sequence length for this model (2940000 > 1024). Running this sequence through the model will result in indexing errors\n"
     ]
    },
    {
     "name": "stdout",
     "output_type": "stream",
     "text": [
      "wait\n"
     ]
    }
   ],
   "source": [
    "from mario_gpt.fos_dataset import FosDataset\n",
    "dataset = FosDataset(mario_lm.tokenizer, level_string='/home/gaiera/Code/NZB/tile_gen/data/fos_wfc.json') # for token conversion"
   ]
  },
  {
   "cell_type": "code",
   "execution_count": 41,
   "id": "12d715a6-5160-4ba1-a318-8879ce224ade",
   "metadata": {
    "tags": []
   },
   "outputs": [
    {
     "data": {
      "text/plain": [
       "<matplotlib.image.AxesImage at 0x7fb63052f430>"
      ]
     },
     "execution_count": 41,
     "metadata": {},
     "output_type": "execute_result"
    },
    {
     "data": {
      "image/png": "[encoded data removed]",
      "text/plain": [
       "<Figure size 640x480 with 1 Axes>"
      ]
     },
     "metadata": {},
     "output_type": "display_data"
    }
   ],
   "source": [
    "B = np.reshape(dataset.level_tensors[0], [28, 35])\n",
    "plt.imshow(B==40)"
   ]
  },
  {
   "cell_type": "code",
   "execution_count": null,
   "id": "c5e0beb8-1288-4729-97e4-f578abdbba76",
   "metadata": {},
   "outputs": [],
   "source": []
  }
 ],
 "metadata": {
  "kernelspec": {
   "display_name": "Python 3 (ipykernel)",
   "language": "python",
   "name": "python3"
  },
  "language_info": {
   "codemirror_mode": {
    "name": "ipython",
    "version": 3
   },
   "file_extension": ".py",
   "mimetype": "text/x-python",
   "name": "python",
   "nbconvert_exporter": "python",
   "pygments_lexer": "ipython3",
   "version": "3.9.16"
  }
 },
 "nbformat": 4,
 "nbformat_minor": 5
}
