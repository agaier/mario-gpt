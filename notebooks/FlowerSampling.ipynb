{
 "cells": [
  {
   "cell_type": "markdown",
   "id": "6db35712-44f4-4e69-9589-67a5cdab7f5d",
   "metadata": {},
   "source": [
    "## Load Stuff"
   ]
  },
  {
   "cell_type": "code",
   "execution_count": null,
   "id": "cc50c35e-0dbe-4ffd-993d-280b28d4ce8f",
   "metadata": {
    "tags": []
   },
   "outputs": [],
   "source": [
    "import torch\n",
    "from mario_gpt import MarioDataset, MarioLM, TrainingConfig, MarioGPTTrainer\n",
    "from mario_gpt.utils import view_level, convert_level_to_png, join_list_of_list, characterize\n",
    "from mario_gpt.flower_level import FLOWER_LEVEL\n",
    "\n",
    "dataset = MarioDataset(mario_lm.tokenizer, level_string=FLOWER_LEVEL) # for token conversion\n",
    "\n",
    "import numpy as np\n",
    "import matplotlib.pyplot as plt\n",
    "\n",
    "from IPython.display import clear_output"
   ]
  },
  {
   "cell_type": "code",
   "execution_count": 156,
   "id": "2904f95b-f64c-4fe2-8cf0-169ca3298c98",
   "metadata": {
    "tags": []
   },
   "outputs": [],
   "source": [
    "#---\n",
    "# load model and generate flowers\n",
    "#---\n",
    "n_cols = 48\n",
    "\n",
    "mario_lm = MarioLM(lm_path=\"../FlowerGPT\", tokenizer_path=\"../FlowerGPT\")\n",
    "dataset = MarioDataset(mario_lm.tokenizer, level_string=FLOWER_LEVEL)\n",
    "prompts = [\" \"]\n",
    "generated_level = mario_lm.sample(\n",
    "    prompts=prompts,\n",
    "    num_steps=(14*n_cols),\n",
    "    temperature=1.0,\n",
    "    use_tqdm=True\n",
    ")\n",
    "clear_output()"
   ]
  },
  {
   "cell_type": "code",
   "execution_count": 157,
   "id": "da3b8af8-fade-45ee-b705-74be92f2a98a",
   "metadata": {
    "tags": []
   },
   "outputs": [
    {
     "name": "stdout",
     "output_type": "stream",
     "text": [
      "[[ 0.  1.]\n",
      " [ 2.  3.]\n",
      " [nan nan]]\n"
     ]
    }
   ],
   "source": [
    "import numpy as np\n",
    "\n",
    "def token_to_rgb(token_array, token_dict, colors=None):\n",
    "    # Create a reverse dictionary mapping token values to keys\n",
    "    reverse_token_dict = {int(v.item()): k for k, v in token_dict.items()}\n",
    "\n",
    "    # Use ascending integers as colors if not provided\n",
    "    if colors is None:\n",
    "        colors = list(range(len(token_dict)))\n",
    "\n",
    "    # Create a dictionary mapping token values to colors\n",
    "    color_dict = {token_value: color for token_value, color in zip(reverse_token_dict.keys(), colors)}\n",
    "\n",
    "    # Function to map token values to colors or np.nan if not in token_dict\n",
    "    def map_to_color(token_value):\n",
    "        return color_dict.get(token_value, np.nan)\n",
    "\n",
    "    # Create a 2D array of colors based on the token_array and color_dict using nested list comprehension\n",
    "    rgb_array = np.array([[map_to_color(token_value) for token_value in row] for row in token_array])\n",
    "\n",
    "    return rgb_array\n",
    "\n",
    "# Example usage\n",
    "token_array = np.array([[33, 34], [35, 36], [37, 38]])\n",
    "token_dict = dataset.token_dict\n",
    "\n",
    "rgb_array = token_to_rgb(token_array, token_dict)\n",
    "print(rgb_array)\n"
   ]
  },
  {
   "cell_type": "code",
   "execution_count": 158,
   "id": "9eeef84b-7131-4894-902a-c7f00049c2e2",
   "metadata": {
    "tags": []
   },
   "outputs": [],
   "source": [
    "def token_to_rgb(token_array, token_dict, colors=None):\n",
    "    # Create a reverse dictionary mapping token values to keys\n",
    "    reverse_token_dict = {int(v.item()): k for k, v in token_dict.items()}\n",
    "\n",
    "    # Use ascending integers as colors if not provided\n",
    "    if colors is None:\n",
    "        colors = [\n",
    "            [0, 170, 0],       \n",
    "            [185, 122, 87],      \n",
    "            [255, 242, 0],     \n",
    "            [191, 232, 242],   \n",
    "        ]        \n",
    "\n",
    "    # Create a dictionary mapping token values to colors\n",
    "    color_dict = {token_value: color for token_value, color in zip(reverse_token_dict.keys(), colors)}\n",
    "\n",
    "    # Function to map token values to colors or red if not in token_dict\n",
    "    def map_to_color(token_value):\n",
    "        return color_dict.get(token_value, [255, 0, 0])\n",
    "\n",
    "    # Create a 3D array of RGB colors based on the token_array and color_dict using nested list comprehension\n",
    "    rgb_array = np.array([[[map_to_color(token_value) for token_value in row] for row in token_array]])\n",
    "\n",
    "    return rgb_array"
   ]
  },
  {
   "cell_type": "code",
   "execution_count": 159,
   "id": "c5a4f411-e379-4f08-8d33-7528efb3d79b",
   "metadata": {
    "tags": []
   },
   "outputs": [
    {
     "data": {
      "text/plain": [
       "<matplotlib.image.AxesImage at 0x7f833e859370>"
      ]
     },
     "execution_count": 159,
     "metadata": {},
     "output_type": "execute_result"
    },
    {
     "data": {
      "image/png": "[encoded data removed]",
      "text/plain": [
       "<Figure size 640x480 with 1 Axes>"
      ]
     },
     "metadata": {},
     "output_type": "display_data"
    }
   ],
   "source": [
    "# Show Flowers\n",
    "\n",
    "A = generated_level.level_tensor\n",
    "rot_img = np.rot90(A.reshape(n_cols,14))\n",
    "image = token_to_rgb(rot_img, dataset.token_dict)\n",
    "plt.imshow(image[0])"
   ]
  },
  {
   "cell_type": "code",
   "execution_count": null,
   "id": "f7ec9edc-78f5-4ac0-8d1c-6314a08b03e5",
   "metadata": {},
   "outputs": [],
   "source": []
  }
 ],
 "metadata": {
  "kernelspec": {
   "display_name": "Python 3 (ipykernel)",
   "language": "python",
   "name": "python3"
  },
  "language_info": {
   "codemirror_mode": {
    "name": "ipython",
    "version": 3
   },
   "file_extension": ".py",
   "mimetype": "text/x-python",
   "name": "python",
   "nbconvert_exporter": "python",
   "pygments_lexer": "ipython3",
   "version": "3.9.16"
  }
 },
 "nbformat": 4,
 "nbformat_minor": 5
}
